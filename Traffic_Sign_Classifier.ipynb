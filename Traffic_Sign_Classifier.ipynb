{
 "cells": [
  {
   "cell_type": "markdown",
   "metadata": {
    "deletable": true,
    "editable": true
   },
   "source": [
    "# Self-Driving Car Engineer Nanodegree\n",
    "\n",
    "## Deep Learning\n",
    "\n",
    "## Project: Build a Traffic Sign Recognition Classifier\n",
    "\n",
    "In this notebook, a template is provided for you to implement your functionality in stages, which is required to successfully complete this project. If additional code is required that cannot be included in the notebook, be sure that the Python code is successfully imported and included in your submission if necessary. \n",
    "\n",
    "> **Note**: Once you have completed all of the code implementations, you need to finalize your work by exporting the iPython Notebook as an HTML document. Before exporting the notebook to html, all of the code cells need to have been run so that reviewers can see the final implementation and output. You can then export the notebook by using the menu above and navigating to  \\n\",\n",
    "    \"**File -> Download as -> HTML (.html)**. Include the finished document along with this notebook as your submission. \n",
    "\n",
    "In addition to implementing code, there is a writeup to complete. The writeup should be completed in a separate file, which can be either a markdown file or a pdf document. There is a [write up template](https://github.com/udacity/CarND-Traffic-Sign-Classifier-Project/blob/master/writeup_template.md) that can be used to guide the writing process. Completing the code template and writeup template will cover all of the [rubric points](https://review.udacity.com/#!/rubrics/481/view) for this project.\n",
    "\n",
    "The [rubric](https://review.udacity.com/#!/rubrics/481/view) contains \"Stand Out Suggestions\" for enhancing the project beyond the minimum requirements. The stand out suggestions are optional. If you decide to pursue the \"stand out suggestions\", you can include the code in this Ipython notebook and also discuss the results in the writeup file.\n",
    "\n",
    "\n",
    ">**Note:** Code and Markdown cells can be executed using the **Shift + Enter** keyboard shortcut. In addition, Markdown cells can be edited by typically double-clicking the cell to enter edit mode."
   ]
  },
  {
   "cell_type": "markdown",
   "metadata": {
    "deletable": true,
    "editable": true
   },
   "source": [
    "---\n",
    "## Step 0: Load The Data"
   ]
  },
  {
   "cell_type": "code",
   "execution_count": 189,
   "metadata": {
    "collapsed": false,
    "deletable": true,
    "editable": true
   },
   "outputs": [],
   "source": [
    "# Load pickled data\n",
    "import pickle\n",
    "\n",
    "# TODO: Fill this in based on where you saved the training and testing data\n",
    "\n",
    "training_file = 'data/train.p'\n",
    "validation_file = 'data/valid.p'\n",
    "testing_file = 'data/test.p'\n",
    "\n",
    "with open(training_file, mode='rb') as f:\n",
    "    train = pickle.load(f)\n",
    "with open(validation_file, mode='rb') as f:\n",
    "    valid = pickle.load(f)\n",
    "with open(testing_file, mode='rb') as f:\n",
    "    test = pickle.load(f)\n",
    "    \n",
    "X_train, y_train = train['features'], train['labels']\n",
    "X_valid, y_valid = valid['features'], valid['labels']\n",
    "X_test, y_test = test['features'], test['labels']\n",
    "\n",
    "assert(len(X_train) == len(y_train))\n",
    "assert(len(X_valid) == len(y_valid))\n",
    "assert(len(X_test) == len(y_test))"
   ]
  },
  {
   "cell_type": "markdown",
   "metadata": {
    "deletable": true,
    "editable": true
   },
   "source": [
    "---\n",
    "\n",
    "## Step 1: Dataset Summary & Exploration\n",
    "\n",
    "The pickled data is a dictionary with 4 key/value pairs:\n",
    "\n",
    "- `'features'` is a 4D array containing raw pixel data of the traffic sign images, (num examples, width, height, channels).\n",
    "- `'labels'` is a 1D array containing the label/class id of the traffic sign. The file `signnames.csv` contains id -> name mappings for each id.\n",
    "- `'sizes'` is a list containing tuples, (width, height) representing the original width and height the image.\n",
    "- `'coords'` is a list containing tuples, (x1, y1, x2, y2) representing coordinates of a bounding box around the sign in the image. **THESE COORDINATES ASSUME THE ORIGINAL IMAGE. THE PICKLED DATA CONTAINS RESIZED VERSIONS (32 by 32) OF THESE IMAGES**\n",
    "\n",
    "Complete the basic data summary below. Use python, numpy and/or pandas methods to calculate the data summary rather than hard coding the results. For example, the [pandas shape method](http://pandas.pydata.org/pandas-docs/stable/generated/pandas.DataFrame.shape.html) might be useful for calculating some of the summary results. "
   ]
  },
  {
   "cell_type": "markdown",
   "metadata": {
    "deletable": true,
    "editable": true
   },
   "source": [
    "### Provide a Basic Summary of the Data Set Using Python, Numpy and/or Pandas"
   ]
  },
  {
   "cell_type": "code",
   "execution_count": 190,
   "metadata": {
    "collapsed": false,
    "deletable": true,
    "editable": true,
    "scrolled": true
   },
   "outputs": [
    {
     "name": "stdout",
     "output_type": "stream",
     "text": [
      "Number of training examples = 34799\n",
      "Number of testing examples = 12630\n",
      "Image data shape = (32, 32, 3)\n",
      "Number of classes = 43\n"
     ]
    }
   ],
   "source": [
    "### Replace each question mark with the appropriate value. \n",
    "### Use python, pandas or numpy methods rather than hard coding the results\n",
    "import numpy as np\n",
    "\n",
    "# TODO: Number of training examples\n",
    "n_train = X_train.shape[0]\n",
    "\n",
    "# TODO: Number of testing examples.\n",
    "n_test = X_test.shape[0]\n",
    "\n",
    "# TODO: What's the shape of an traffic sign image?\n",
    "image_shape = X_train[0].shape\n",
    "\n",
    "# TODO: How many unique classes/labels there are in the dataset.\n",
    "n_classes = len(np.unique(np.concatenate([y_train, y_valid, y_test])))\n",
    "\n",
    "print(\"Number of training examples =\", n_train)\n",
    "print(\"Number of testing examples =\", n_test)\n",
    "print(\"Image data shape =\", image_shape)\n",
    "print(\"Number of classes =\", n_classes)"
   ]
  },
  {
   "cell_type": "markdown",
   "metadata": {
    "deletable": true,
    "editable": true
   },
   "source": [
    "### Include an exploratory visualization of the dataset"
   ]
  },
  {
   "cell_type": "markdown",
   "metadata": {
    "deletable": true,
    "editable": true
   },
   "source": [
    "Visualize the German Traffic Signs Dataset using the pickled file(s). This is open ended, suggestions include: plotting traffic sign images, plotting the count of each sign, etc.\n",
    "\n",
    "The [Matplotlib](http://matplotlib.org/) [examples](http://matplotlib.org/examples/index.html) and [gallery](http://matplotlib.org/gallery.html) pages are a great resource for doing visualizations in Python.\n",
    "\n",
    "**NOTE:** It's recommended you start with something simple first. If you wish to do more, come back to it after you've completed the rest of the sections."
   ]
  },
  {
   "cell_type": "code",
   "execution_count": 191,
   "metadata": {
    "collapsed": false,
    "deletable": true,
    "editable": true,
    "scrolled": true
   },
   "outputs": [
    {
     "name": "stdout",
     "output_type": "stream",
     "text": [
      "13\n"
     ]
    },
    {
     "data": {
      "image/png": "[encoded data removed]",
      "text/plain": [
       "<matplotlib.figure.Figure at 0x7f881a5612e8>"
      ]
     },
     "metadata": {},
     "output_type": "display_data"
    }
   ],
   "source": [
    "### Data exploration visualization code goes here.\n",
    "### Feel free to use as many code cells as needed.\n",
    "import random\n",
    "import matplotlib.pyplot as plt\n",
    "# Visualizations will be shown in the notebook.\n",
    "%matplotlib inline\n",
    "\n",
    "index = random.randint(0, len(X_train))\n",
    "image = X_train[index].squeeze()\n",
    "\n",
    "plt.figure(figsize=(1,1))\n",
    "plt.imshow(image, cmap=\"jet\")\n",
    "print(y_train[index])"
   ]
  },
  {
   "cell_type": "markdown",
   "metadata": {
    "deletable": true,
    "editable": true
   },
   "source": [
    "----\n",
    "\n",
    "## Step 2: Design and Test a Model Architecture\n",
    "\n",
    "Design and implement a deep learning model that learns to recognize traffic signs. Train and test your model on the [German Traffic Sign Dataset](http://benchmark.ini.rub.de/?section=gtsrb&subsection=dataset).\n",
    "\n",
    "The LeNet-5 implementation shown in the [classroom](https://classroom.udacity.com/nanodegrees/nd013/parts/fbf77062-5703-404e-b60c-95b78b2f3f9e/modules/6df7ae49-c61c-4bb2-a23e-6527e69209ec/lessons/601ae704-1035-4287-8b11-e2c2716217ad/concepts/d4aca031-508f-4e0b-b493-e7b706120f81) at the end of the CNN lesson is a solid starting point. You'll have to change the number of classes and possibly the preprocessing, but aside from that it's plug and play! \n",
    "\n",
    "With the LeNet-5 solution from the lecture, you should expect a validation set accuracy of about 0.89. To meet specifications, the validation set accuracy will need to be at least 0.93. It is possible to get an even higher accuracy, but 0.93 is the minimum for a successful project submission. \n",
    "\n",
    "There are various aspects to consider when thinking about this problem:\n",
    "\n",
    "- Neural network architecture (is the network over or underfitting?)\n",
    "- Play around preprocessing techniques (normalization, rgb to grayscale, etc)\n",
    "- Number of examples per label (some have more than others).\n",
    "- Generate fake data.\n",
    "\n",
    "Here is an example of a [published baseline model on this problem](http://yann.lecun.com/exdb/publis/pdf/sermanet-ijcnn-11.pdf). It's not required to be familiar with the approach used in the paper but, it's good practice to try to read papers like these."
   ]
  },
  {
   "cell_type": "markdown",
   "metadata": {
    "deletable": true,
    "editable": true
   },
   "source": [
    "### Pre-process the Data Set (normalization, grayscale, etc.)"
   ]
  },
  {
   "cell_type": "markdown",
   "metadata": {
    "deletable": true,
    "editable": true
   },
   "source": [
    "Use the code cell (or multiple code cells, if necessary) to implement the first step of your project."
   ]
  },
  {
   "cell_type": "code",
   "execution_count": 192,
   "metadata": {
    "collapsed": false,
    "deletable": true,
    "editable": true
   },
   "outputs": [],
   "source": [
    "### Preprocess the data here. Preprocessing steps could include normalization, converting to grayscale, etc.\n",
    "### Feel free to use as many code cells as needed.\n",
    "import cv2\n",
    "\n",
    "# Normalization includes \n",
    "# - Transformation to gray scale\n",
    "# - Resizing\n",
    "def normalize(images):\n",
    "    normalized = []\n",
    "    for image in images:\n",
    "        image = cv2.cvtColor(image, cv2.COLOR_BGR2GRAY)\n",
    "        image = cv2.resize(image, (image_shape[0], image_shape[1]))\n",
    "        normalized.append(image[:, :, np.newaxis])\n",
    "    return normalized\n",
    "\n",
    "X_train = normalize(X_train)\n",
    "X_valid = normalize(X_valid)\n",
    "X_test = normalize(X_test)"
   ]
  },
  {
   "cell_type": "markdown",
   "metadata": {
    "deletable": true,
    "editable": true
   },
   "source": [
    "### Model Architecture"
   ]
  },
  {
   "cell_type": "code",
   "execution_count": 193,
   "metadata": {
    "collapsed": true,
    "deletable": true,
    "editable": true
   },
   "outputs": [],
   "source": [
    "### Define your architecture here.\n",
    "### Feel free to use as many code cells as needed.\n",
    "import tensorflow as tf\n",
    "import copy\n",
    "\n",
    "def model(x, k):\n",
    "    # Arguments used for tf.truncated_normal, randomly defines variables for the weights and biases for each layer\n",
    "    mu = 0\n",
    "    sigma = 0.1\n",
    "    pi = 'VALID' \n",
    "    \n",
    "    # Layer 1: Convolutional. Input = 32x32x1. Output = 28x28x6. 28 = (32 - 5 + 2 * 0)/1 + 1\n",
    "    conv1_W = tf.Variable(tf.truncated_normal(shape=(5, 5, 1, 6), mean = mu, stddev = sigma))\n",
    "    conv1_b = tf.Variable(tf.zeros(6))\n",
    "    conv1   = tf.nn.conv2d(x, conv1_W, strides=[1, 1, 1, 1], padding = pi) + conv1_b\n",
    "\n",
    "    # Activation.\n",
    "    conv1 = tf.nn.relu(conv1)\n",
    "\n",
    "    # Pooling. Input = 28x28x6. Output = 14x14x6. 14 = 28/2\n",
    "    conv1 = tf.nn.max_pool(conv1, ksize=[1, 2, 2, 1], strides=[1, 2, 2, 1], padding = pi)\n",
    "    \n",
    "    # Dropout\n",
    "    conv1 = tf.nn.dropout(conv1, k)\n",
    "\n",
    "    # Layer 2: Convolutional. Input = 14x14x6. Output = 10x10x16. 10 = (14 - 5 + 2 * 0)/1 + 1\n",
    "    conv2_W = tf.Variable(tf.truncated_normal(shape=(5, 5, 6, 16), mean = mu, stddev = sigma))\n",
    "    conv2_b = tf.Variable(tf.zeros(16))\n",
    "    conv2   = tf.nn.conv2d(conv1, conv2_W, strides=[1, 1, 1, 1], padding = pi) + conv2_b\n",
    "    \n",
    "    # Activation.\n",
    "    conv2 = tf.nn.relu(conv2)\n",
    "\n",
    "    # Pooling. Input = 10x10x16. Output = 5x5x16. 5 = 10/2\n",
    "    conv2 = tf.nn.max_pool(conv2, ksize=[1, 2, 2, 1], strides=[1, 2, 2, 1], padding = pi)\n",
    "    \n",
    "    # Dropout\n",
    "    conv2 = tf.nn.dropout(conv2, k)\n",
    "    \n",
    "    # Flatten. Input = 5x5x16. Output = 400. 400 = 25 * 16\n",
    "    fc0   = tf.contrib.layers.flatten(conv2)\n",
    "    \n",
    "    # Layer 3: Fully Connected. Input = 400. Output = 120.\n",
    "    fc1_W = tf.Variable(tf.truncated_normal(shape=(400, 120), mean = mu, stddev = sigma))\n",
    "    fc1_b = tf.Variable(tf.zeros(120))\n",
    "    fc1   = tf.matmul(fc0, fc1_W) + fc1_b\n",
    "    \n",
    "    # Activation.\n",
    "    fc1    = tf.nn.relu(fc1)\n",
    "\n",
    "    # Layer 4: Fully Connected. Input = 120. Output = 84.\n",
    "    fc2_W  = tf.Variable(tf.truncated_normal(shape=(120, 84), mean = mu, stddev = sigma))\n",
    "    fc2_b  = tf.Variable(tf.zeros(84))\n",
    "    fc2    = tf.matmul(fc1, fc2_W) + fc2_b\n",
    "    \n",
    "    # Activation.\n",
    "    fc2    = tf.nn.relu(fc2)\n",
    "\n",
    "    # Layer 5: Fully Connected. Input = 84. Output = n_classes.\n",
    "    fc3_W  = tf.Variable(tf.truncated_normal(shape=(84, n_classes), mean = mu, stddev = sigma))\n",
    "    fc3_b  = tf.Variable(tf.zeros(n_classes))\n",
    "    logits = tf.matmul(fc2, fc3_W) + fc3_b\n",
    "    \n",
    "    return conv2,conv1,logits"
   ]
  },
  {
   "cell_type": "markdown",
   "metadata": {
    "deletable": true,
    "editable": true
   },
   "source": [
    "### Train, Validate and Test the Model"
   ]
  },
  {
   "cell_type": "markdown",
   "metadata": {
    "deletable": true,
    "editable": true
   },
   "source": [
    "A validation set can be used to assess how well the model is performing. A low accuracy on the training and validation\n",
    "sets imply underfitting. A high accuracy on the training set but low accuracy on the validation set implies overfitting."
   ]
  },
  {
   "cell_type": "code",
   "execution_count": 194,
   "metadata": {
    "collapsed": false,
    "deletable": true,
    "editable": true,
    "scrolled": false
   },
   "outputs": [
    {
     "name": "stdout",
     "output_type": "stream",
     "text": [
      "Training...\n",
      "\n",
      "EPOCH 1 ...\n",
      "Training Loss = 5.211\n",
      "Validation Loss = 3.530\n",
      "Validation Accuracy = 0.094\n",
      "\n",
      "EPOCH 2 ...\n",
      "Training Loss = 3.207\n",
      "Validation Loss = 2.864\n",
      "Validation Accuracy = 0.281\n",
      "\n",
      "EPOCH 3 ...\n",
      "Training Loss = 2.489\n",
      "Validation Loss = 2.052\n",
      "Validation Accuracy = 0.502\n",
      "\n",
      "EPOCH 4 ...\n",
      "Training Loss = 1.880\n",
      "Validation Loss = 1.541\n",
      "Validation Accuracy = 0.611\n",
      "\n",
      "EPOCH 5 ...\n",
      "Training Loss = 1.508\n",
      "Validation Loss = 1.284\n",
      "Validation Accuracy = 0.687\n",
      "\n",
      "EPOCH 6 ...\n",
      "Training Loss = 1.285\n",
      "Validation Loss = 1.083\n",
      "Validation Accuracy = 0.726\n",
      "\n",
      "EPOCH 7 ...\n",
      "Training Loss = 1.127\n",
      "Validation Loss = 0.948\n",
      "Validation Accuracy = 0.746\n",
      "\n",
      "EPOCH 8 ...\n",
      "Training Loss = 1.004\n",
      "Validation Loss = 0.830\n",
      "Validation Accuracy = 0.776\n",
      "\n",
      "EPOCH 9 ...\n",
      "Training Loss = 0.919\n",
      "Validation Loss = 0.749\n",
      "Validation Accuracy = 0.799\n",
      "\n",
      "EPOCH 10 ...\n",
      "Training Loss = 0.849\n",
      "Validation Loss = 0.694\n",
      "Validation Accuracy = 0.821\n",
      "\n",
      "EPOCH 11 ...\n",
      "Training Loss = 0.787\n",
      "Validation Loss = 0.645\n",
      "Validation Accuracy = 0.842\n",
      "\n",
      "EPOCH 12 ...\n",
      "Training Loss = 0.731\n",
      "Validation Loss = 0.584\n",
      "Validation Accuracy = 0.854\n",
      "\n",
      "EPOCH 13 ...\n",
      "Training Loss = 0.685\n",
      "Validation Loss = 0.582\n",
      "Validation Accuracy = 0.849\n",
      "\n",
      "EPOCH 14 ...\n",
      "Training Loss = 0.640\n",
      "Validation Loss = 0.560\n",
      "Validation Accuracy = 0.842\n",
      "\n",
      "EPOCH 15 ...\n",
      "Training Loss = 0.619\n",
      "Validation Loss = 0.523\n",
      "Validation Accuracy = 0.867\n",
      "\n",
      "EPOCH 16 ...\n",
      "Training Loss = 0.577\n",
      "Validation Loss = 0.502\n",
      "Validation Accuracy = 0.863\n",
      "\n",
      "EPOCH 17 ...\n",
      "Training Loss = 0.555\n",
      "Validation Loss = 0.483\n",
      "Validation Accuracy = 0.878\n",
      "\n",
      "EPOCH 18 ...\n",
      "Training Loss = 0.516\n",
      "Validation Loss = 0.459\n",
      "Validation Accuracy = 0.878\n",
      "\n",
      "EPOCH 19 ...\n",
      "Training Loss = 0.506\n",
      "Validation Loss = 0.437\n",
      "Validation Accuracy = 0.884\n",
      "\n",
      "EPOCH 20 ...\n",
      "Training Loss = 0.479\n",
      "Validation Loss = 0.460\n",
      "Validation Accuracy = 0.882\n",
      "\n",
      "EPOCH 21 ...\n",
      "Training Loss = 0.467\n",
      "Validation Loss = 0.410\n",
      "Validation Accuracy = 0.900\n",
      "\n",
      "EPOCH 22 ...\n",
      "Training Loss = 0.447\n",
      "Validation Loss = 0.425\n",
      "Validation Accuracy = 0.888\n",
      "\n",
      "EPOCH 23 ...\n",
      "Training Loss = 0.433\n",
      "Validation Loss = 0.434\n",
      "Validation Accuracy = 0.889\n",
      "\n",
      "EPOCH 24 ...\n",
      "Training Loss = 0.417\n",
      "Validation Loss = 0.419\n",
      "Validation Accuracy = 0.900\n",
      "\n",
      "EPOCH 25 ...\n",
      "Training Loss = 0.401\n",
      "Validation Loss = 0.472\n",
      "Validation Accuracy = 0.884\n",
      "\n",
      "EPOCH 26 ...\n",
      "Training Loss = 0.388\n",
      "Validation Loss = 0.407\n",
      "Validation Accuracy = 0.895\n",
      "\n",
      "EPOCH 27 ...\n",
      "Training Loss = 0.388\n",
      "Validation Loss = 0.359\n",
      "Validation Accuracy = 0.905\n",
      "\n",
      "EPOCH 28 ...\n",
      "Training Loss = 0.369\n",
      "Validation Loss = 0.362\n",
      "Validation Accuracy = 0.899\n",
      "\n",
      "EPOCH 29 ...\n",
      "Training Loss = 0.355\n",
      "Validation Loss = 0.373\n",
      "Validation Accuracy = 0.910\n",
      "\n",
      "EPOCH 30 ...\n",
      "Training Loss = 0.340\n",
      "Validation Loss = 0.363\n",
      "Validation Accuracy = 0.906\n",
      "\n",
      "EPOCH 31 ...\n",
      "Training Loss = 0.342\n",
      "Validation Loss = 0.317\n",
      "Validation Accuracy = 0.913\n",
      "\n",
      "EPOCH 32 ...\n",
      "Training Loss = 0.332\n",
      "Validation Loss = 0.342\n",
      "Validation Accuracy = 0.917\n",
      "\n",
      "EPOCH 33 ...\n",
      "Training Loss = 0.317\n",
      "Validation Loss = 0.382\n",
      "Validation Accuracy = 0.902\n",
      "\n",
      "EPOCH 34 ...\n",
      "Training Loss = 0.313\n",
      "Validation Loss = 0.357\n",
      "Validation Accuracy = 0.911\n",
      "\n",
      "EPOCH 35 ...\n",
      "Training Loss = 0.309\n",
      "Validation Loss = 0.326\n",
      "Validation Accuracy = 0.914\n",
      "\n",
      "EPOCH 36 ...\n",
      "Training Loss = 0.300\n",
      "Validation Loss = 0.356\n",
      "Validation Accuracy = 0.907\n",
      "\n",
      "EPOCH 37 ...\n",
      "Training Loss = 0.291\n",
      "Validation Loss = 0.345\n",
      "Validation Accuracy = 0.913\n",
      "\n",
      "EPOCH 38 ...\n",
      "Training Loss = 0.292\n",
      "Validation Loss = 0.329\n",
      "Validation Accuracy = 0.913\n",
      "\n",
      "EPOCH 39 ...\n",
      "Training Loss = 0.277\n",
      "Validation Loss = 0.365\n",
      "Validation Accuracy = 0.910\n",
      "\n",
      "EPOCH 40 ...\n",
      "Training Loss = 0.270\n",
      "Validation Loss = 0.394\n",
      "Validation Accuracy = 0.899\n",
      "\n",
      "EPOCH 41 ...\n",
      "Training Loss = 0.264\n",
      "Validation Loss = 0.369\n",
      "Validation Accuracy = 0.912\n",
      "\n",
      "EPOCH 42 ...\n",
      "Training Loss = 0.269\n",
      "Validation Loss = 0.339\n",
      "Validation Accuracy = 0.920\n",
      "\n",
      "EPOCH 43 ...\n",
      "Training Loss = 0.249\n",
      "Validation Loss = 0.370\n",
      "Validation Accuracy = 0.918\n",
      "\n",
      "EPOCH 44 ...\n",
      "Training Loss = 0.249\n",
      "Validation Loss = 0.397\n",
      "Validation Accuracy = 0.916\n",
      "\n",
      "EPOCH 45 ...\n",
      "Training Loss = 0.243\n",
      "Validation Loss = 0.379\n",
      "Validation Accuracy = 0.920\n",
      "\n",
      "EPOCH 46 ...\n",
      "Training Loss = 0.242\n",
      "Validation Loss = 0.402\n",
      "Validation Accuracy = 0.909\n",
      "\n",
      "EPOCH 47 ...\n",
      "Training Loss = 0.235\n",
      "Validation Loss = 0.363\n",
      "Validation Accuracy = 0.915\n",
      "\n",
      "EPOCH 48 ...\n",
      "Training Loss = 0.234\n",
      "Validation Loss = 0.313\n",
      "Validation Accuracy = 0.924\n",
      "\n",
      "EPOCH 49 ...\n",
      "Training Loss = 0.226\n",
      "Validation Loss = 0.331\n",
      "Validation Accuracy = 0.924\n",
      "\n",
      "EPOCH 50 ...\n",
      "Training Loss = 0.225\n",
      "Validation Loss = 0.337\n",
      "Validation Accuracy = 0.914\n",
      "\n",
      "EPOCH 51 ...\n",
      "Training Loss = 0.215\n",
      "Validation Loss = 0.345\n",
      "Validation Accuracy = 0.922\n",
      "\n",
      "EPOCH 52 ...\n",
      "Training Loss = 0.218\n",
      "Validation Loss = 0.363\n",
      "Validation Accuracy = 0.915\n",
      "\n",
      "EPOCH 53 ...\n",
      "Training Loss = 0.209\n",
      "Validation Loss = 0.331\n",
      "Validation Accuracy = 0.920\n",
      "\n",
      "EPOCH 54 ...\n",
      "Training Loss = 0.204\n",
      "Validation Loss = 0.306\n",
      "Validation Accuracy = 0.929\n",
      "\n",
      "EPOCH 55 ...\n",
      "Training Loss = 0.207\n",
      "Validation Loss = 0.351\n",
      "Validation Accuracy = 0.924\n",
      "\n",
      "EPOCH 56 ...\n",
      "Training Loss = 0.208\n",
      "Validation Loss = 0.353\n",
      "Validation Accuracy = 0.921\n",
      "\n",
      "EPOCH 57 ...\n",
      "Training Loss = 0.205\n",
      "Validation Loss = 0.314\n",
      "Validation Accuracy = 0.925\n",
      "\n",
      "EPOCH 58 ...\n",
      "Training Loss = 0.197\n",
      "Validation Loss = 0.334\n",
      "Validation Accuracy = 0.926\n",
      "\n",
      "EPOCH 59 ...\n",
      "Training Loss = 0.197\n",
      "Validation Loss = 0.331\n",
      "Validation Accuracy = 0.917\n",
      "\n",
      "EPOCH 60 ...\n",
      "Training Loss = 0.184\n",
      "Validation Loss = 0.340\n",
      "Validation Accuracy = 0.928\n",
      "\n",
      "EPOCH 61 ...\n",
      "Training Loss = 0.195\n",
      "Validation Loss = 0.332\n",
      "Validation Accuracy = 0.927\n",
      "\n",
      "EPOCH 62 ...\n",
      "Training Loss = 0.193\n",
      "Validation Loss = 0.335\n",
      "Validation Accuracy = 0.922\n",
      "\n",
      "EPOCH 63 ...\n",
      "Training Loss = 0.185\n",
      "Validation Loss = 0.332\n",
      "Validation Accuracy = 0.923\n",
      "\n",
      "EPOCH 64 ...\n",
      "Training Loss = 0.176\n",
      "Validation Loss = 0.277\n",
      "Validation Accuracy = 0.936\n",
      "\n",
      "EPOCH 65 ...\n",
      "Training Loss = 0.183\n",
      "Validation Loss = 0.376\n",
      "Validation Accuracy = 0.916\n",
      "\n",
      "EPOCH 66 ...\n",
      "Training Loss = 0.182\n",
      "Validation Loss = 0.368\n",
      "Validation Accuracy = 0.920\n",
      "\n",
      "EPOCH 67 ...\n",
      "Training Loss = 0.178\n",
      "Validation Loss = 0.316\n",
      "Validation Accuracy = 0.925\n",
      "\n",
      "EPOCH 68 ...\n",
      "Training Loss = 0.174\n",
      "Validation Loss = 0.321\n",
      "Validation Accuracy = 0.929\n",
      "\n",
      "EPOCH 69 ...\n",
      "Training Loss = 0.170\n",
      "Validation Loss = 0.291\n",
      "Validation Accuracy = 0.930\n",
      "\n",
      "EPOCH 70 ...\n",
      "Training Loss = 0.171\n",
      "Validation Loss = 0.294\n",
      "Validation Accuracy = 0.925\n",
      "\n",
      "EPOCH 71 ...\n",
      "Training Loss = 0.174\n",
      "Validation Loss = 0.304\n",
      "Validation Accuracy = 0.927\n",
      "\n",
      "EPOCH 72 ...\n",
      "Training Loss = 0.167\n",
      "Validation Loss = 0.295\n",
      "Validation Accuracy = 0.937\n",
      "\n",
      "EPOCH 73 ...\n",
      "Training Loss = 0.157\n",
      "Validation Loss = 0.336\n",
      "Validation Accuracy = 0.929\n",
      "\n",
      "EPOCH 74 ...\n",
      "Training Loss = 0.165\n",
      "Validation Loss = 0.322\n",
      "Validation Accuracy = 0.927\n",
      "\n",
      "EPOCH 75 ...\n",
      "Training Loss = 0.162\n",
      "Validation Loss = 0.329\n",
      "Validation Accuracy = 0.927\n",
      "\n",
      "EPOCH 76 ...\n",
      "Training Loss = 0.160\n",
      "Validation Loss = 0.318\n",
      "Validation Accuracy = 0.932\n",
      "\n",
      "EPOCH 77 ...\n",
      "Training Loss = 0.161\n",
      "Validation Loss = 0.348\n",
      "Validation Accuracy = 0.931\n",
      "\n",
      "EPOCH 78 ...\n",
      "Training Loss = 0.154\n",
      "Validation Loss = 0.335\n",
      "Validation Accuracy = 0.931\n",
      "\n",
      "EPOCH 79 ...\n",
      "Training Loss = 0.155\n",
      "Validation Loss = 0.381\n",
      "Validation Accuracy = 0.925\n",
      "\n",
      "EPOCH 80 ...\n",
      "Training Loss = 0.153\n",
      "Validation Loss = 0.321\n",
      "Validation Accuracy = 0.929\n",
      "\n",
      "EPOCH 81 ...\n",
      "Training Loss = 0.149\n",
      "Validation Loss = 0.324\n",
      "Validation Accuracy = 0.931\n",
      "\n",
      "EPOCH 82 ...\n",
      "Training Loss = 0.155\n",
      "Validation Loss = 0.358\n",
      "Validation Accuracy = 0.932\n",
      "\n",
      "EPOCH 83 ...\n",
      "Training Loss = 0.153\n",
      "Validation Loss = 0.358\n",
      "Validation Accuracy = 0.930\n",
      "\n",
      "EPOCH 84 ...\n",
      "Training Loss = 0.141\n",
      "Validation Loss = 0.379\n",
      "Validation Accuracy = 0.925\n",
      "\n",
      "EPOCH 85 ...\n",
      "Training Loss = 0.139\n",
      "Validation Loss = 0.332\n",
      "Validation Accuracy = 0.928\n",
      "\n",
      "EPOCH 86 ...\n",
      "Training Loss = 0.143\n",
      "Validation Loss = 0.388\n",
      "Validation Accuracy = 0.932\n",
      "\n",
      "EPOCH 87 ...\n",
      "Training Loss = 0.139\n",
      "Validation Loss = 0.403\n",
      "Validation Accuracy = 0.933\n",
      "\n",
      "EPOCH 88 ...\n",
      "Training Loss = 0.142\n",
      "Validation Loss = 0.409\n",
      "Validation Accuracy = 0.924\n",
      "\n",
      "EPOCH 89 ...\n",
      "Training Loss = 0.136\n",
      "Validation Loss = 0.422\n",
      "Validation Accuracy = 0.930\n",
      "\n",
      "EPOCH 90 ...\n",
      "Training Loss = 0.139\n",
      "Validation Loss = 0.381\n",
      "Validation Accuracy = 0.926\n",
      "\n",
      "Model saved\n",
      "\n",
      "Test Loss = 0.380\n",
      "Test Accuracy = 0.923\n"
     ]
    }
   ],
   "source": [
    "### Train your model here.\n",
    "### Calculate and report the accuracy on the training and validation set.\n",
    "### Once a final model architecture is selected, \n",
    "### the accuracy on the test set should be calculated and reported as well.\n",
    "### Feel free to use as many code cells as needed.\n",
    "import sklearn as skl\n",
    "\n",
    "# Named constants and parameters\n",
    "MODEL_FILE = './model'\n",
    "LEARNING_RATE = 0.001\n",
    "EPOCHS = 90\n",
    "BATCH_SIZE = 512\n",
    "KEEP_RATE = 0.7\n",
    "\n",
    "# Variables\n",
    "x = tf.placeholder(tf.float32, (None, image_shape[0], image_shape[1], 1))\n",
    "y = tf.placeholder(tf.int32, (None))\n",
    "one_hot_y = tf.one_hot(y, n_classes)\n",
    "k = tf.placeholder(tf.float32)\n",
    "\n",
    "# Formulas\n",
    "conv2,conv1,logits = model(x, k)\n",
    "prediction_operation = tf.nn.softmax_cross_entropy_with_logits(logits = logits, labels = one_hot_y)\n",
    "loss_operation = tf.reduce_mean(prediction_operation)\n",
    "\n",
    "optimizer = tf.train.AdamOptimizer(learning_rate = LEARNING_RATE)\n",
    "training_operation = optimizer.minimize(loss_operation)\n",
    "\n",
    "correct_prediction = tf.equal(tf.argmax(logits, 1), tf.argmax(one_hot_y, 1))\n",
    "accuracy_operation = tf.reduce_mean(tf.cast(correct_prediction, tf.float32))\n",
    "saver = tf.train.Saver()\n",
    "\n",
    "# Evaluation function\n",
    "def evaluate(X_data, y_data):\n",
    "    n_examples = len(X_data)\n",
    "    total_loss = 0\n",
    "    total_accuracy = 0\n",
    "    session = tf.get_default_session()\n",
    "    for offset in range(0, n_examples, BATCH_SIZE):\n",
    "        batch_x, batch_y = X_data[offset:offset+BATCH_SIZE], y_data[offset:offset+BATCH_SIZE]\n",
    "        loss, accuracy = session.run([loss_operation, accuracy_operation], feed_dict={x: batch_x, y: batch_y, k: 1.0})\n",
    "        total_loss += (loss * len(batch_x))\n",
    "        total_accuracy += (accuracy * len(batch_x))\n",
    "    return total_loss / n_examples, total_accuracy / n_examples\n",
    "\n",
    "# Training and evaluation session\n",
    "with tf.Session() as session:\n",
    "    session.run(tf.global_variables_initializer())\n",
    "    n_examples = n_train\n",
    "    \n",
    "    print(\"Training...\")\n",
    "    print()\n",
    "    for i in range(EPOCHS):\n",
    "        prediction = 0\n",
    "        loss = 0\n",
    "        total_loss = 0\n",
    "        X_train, y_train = skl.utils.shuffle(X_train, y_train)\n",
    "        for offset in range(0, n_examples, BATCH_SIZE):\n",
    "            end = offset + BATCH_SIZE\n",
    "            batch_x, batch_y = X_train[offset:end], y_train[offset:end]\n",
    "            prediction, loss, _ = session.run([prediction_operation, loss_operation, training_operation], \n",
    "                                              feed_dict={x: batch_x, y: batch_y, k: KEEP_RATE})\n",
    "            total_loss += (loss * len(batch_x))\n",
    "            \n",
    "        validation_loss, validation_accuracy = evaluate(X_valid, y_valid)\n",
    "        print(\"EPOCH {} ...\".format(i+1))\n",
    "        print(\"Training Loss = {:.3f}\".format(total_loss / n_examples))\n",
    "        print(\"Validation Loss = {:.3f}\".format(validation_loss))\n",
    "        print(\"Validation Accuracy = {:.3f}\".format(validation_accuracy))\n",
    "        print()\n",
    "        \n",
    "    saver.save(session, MODEL_FILE)\n",
    "    print(\"Model saved\")\n",
    "    print()\n",
    "\n",
    "# Testing session    \n",
    "with tf.Session() as session:\n",
    "    saver.restore(session, tf.train.latest_checkpoint('.'))\n",
    "\n",
    "    test_loss, test_accuracy = evaluate(X_test, y_test)\n",
    "    print(\"Test Loss = {:.3f}\".format(test_loss))\n",
    "    print(\"Test Accuracy = {:.3f}\".format(test_accuracy))"
   ]
  },
  {
   "cell_type": "markdown",
   "metadata": {
    "deletable": true,
    "editable": true
   },
   "source": [
    "---\n",
    "\n",
    "## Step 3: Test a Model on New Images\n",
    "\n",
    "To give yourself more insight into how your model is working, download at least five pictures of German traffic signs from the web and use your model to predict the traffic sign type.\n",
    "\n",
    "You may find `signnames.csv` useful as it contains mappings from the class id (integer) to the actual sign name."
   ]
  },
  {
   "cell_type": "markdown",
   "metadata": {
    "deletable": true,
    "editable": true
   },
   "source": [
    "### Load and Output the Images"
   ]
  },
  {
   "cell_type": "code",
   "execution_count": 195,
   "metadata": {
    "collapsed": false,
    "deletable": true,
    "editable": true
   },
   "outputs": [
    {
     "data": {
      "image/png": "[encoded data removed]",
      "text/plain": [
       "<matplotlib.figure.Figure at 0x7f8928ae49b0>"
      ]
     },
     "metadata": {},
     "output_type": "display_data"
    },
    {
     "data": {
      "image/png": "[encoded data removed]",
      "text/plain": [
       "<matplotlib.figure.Figure at 0x7f88a81bb208>"
      ]
     },
     "metadata": {},
     "output_type": "display_data"
    },
    {
     "data": {
      "image/png": "[encoded data removed]",
      "text/plain": [
       "<matplotlib.figure.Figure at 0x7f89259d8c50>"
      ]
     },
     "metadata": {},
     "output_type": "display_data"
    },
    {
     "data": {
      "image/png": "[encoded data removed]",
      "text/plain": [
       "<matplotlib.figure.Figure at 0x7f87fe76d438>"
      ]
     },
     "metadata": {},
     "output_type": "display_data"
    },
    {
     "data": {
      "image/png": "[encoded data removed]",
      "text/plain": [
       "<matplotlib.figure.Figure at 0x7f8923b35438>"
      ]
     },
     "metadata": {},
     "output_type": "display_data"
    }
   ],
   "source": [
    "### Load the images and plot them here.\n",
    "### Feel free to use as many code cells as needed.\n",
    "import os\n",
    "from PIL import Image\n",
    "\n",
    "for root, dir, files in os.walk('./test'):\n",
    "    for file in sorted(files):\n",
    "        image = np.array(Image.open(os.path.join(root, file)))\n",
    "        plt.figure(figsize=(1,1))\n",
    "        plt.title(file)\n",
    "        plt.imshow(image, cmap=\"jet\")"
   ]
  },
  {
   "cell_type": "markdown",
   "metadata": {
    "deletable": true,
    "editable": true
   },
   "source": [
    "### Predict the Sign Type for Each Image"
   ]
  },
  {
   "cell_type": "code",
   "execution_count": 196,
   "metadata": {
    "collapsed": false,
    "deletable": true,
    "editable": true
   },
   "outputs": [
    {
     "name": "stdout",
     "output_type": "stream",
     "text": [
      "11.jpeg => 11\n",
      "12.jpeg => 12\n",
      "13.jpeg => 13\n",
      "18.jpeg => 18\n",
      "23.jpeg => 11\n"
     ]
    }
   ],
   "source": [
    "### Run the predictions here and use the model to output the prediction for each image.\n",
    "### Make sure to pre-process the images with the same pre-processing pipeline used earlier.\n",
    "### Feel free to use as many code cells as needed.\n",
    "probabilities = []\n",
    "predictions = []\n",
    "with tf.Session() as session:\n",
    "    saver.restore(session, MODEL_FILE)\n",
    "    for root, dir, files in os.walk('./test'):\n",
    "        for file in sorted(files):\n",
    "            images = normalize([np.array(Image.open(os.path.join(root, file)))])\n",
    "            probability = logits.eval(feed_dict={x: images, k: 1.0})[0]\n",
    "            probabilities.append(probability)\n",
    "            label = np.argmax(probability)\n",
    "            predictions.append(1 if int(os.path.splitext(file)[0]) == label else 0)\n",
    "            print(\"{} => {}\".format(file, label))"
   ]
  },
  {
   "cell_type": "markdown",
   "metadata": {
    "deletable": true,
    "editable": true
   },
   "source": [
    "### Analyze Performance"
   ]
  },
  {
   "cell_type": "code",
   "execution_count": 197,
   "metadata": {
    "collapsed": false,
    "deletable": true,
    "editable": true
   },
   "outputs": [
    {
     "name": "stdout",
     "output_type": "stream",
     "text": [
      "Accuracy = 0.800%\n"
     ]
    }
   ],
   "source": [
    "### Calculate the accuracy for these 5 new images. \n",
    "### For example, if the model predicted 1 out of 5 signs correctly, it's 20% accurate on these new images.\n",
    "print(\"Accuracy = {:.3f}%\".format(predictions.count(1)/len(predictions)))"
   ]
  },
  {
   "cell_type": "markdown",
   "metadata": {
    "deletable": true,
    "editable": true
   },
   "source": [
    "### Output Top 5 Softmax Probabilities For Each Image Found on the Web"
   ]
  },
  {
   "cell_type": "markdown",
   "metadata": {
    "deletable": true,
    "editable": true
   },
   "source": [
    "For each of the new images, print out the model's softmax probabilities to show the **certainty** of the model's predictions (limit the output to the top 5 probabilities for each image). [`tf.nn.top_k`](https://www.tensorflow.org/versions/r0.12/api_docs/python/nn.html#top_k) could prove helpful here. \n",
    "\n",
    "The example below demonstrates how tf.nn.top_k can be used to find the top k predictions for each image.\n",
    "\n",
    "`tf.nn.top_k` will return the values and indices (class ids) of the top k predictions. So if k=3, for each sign, it'll return the 3 largest probabilities (out of a possible 43) and the correspoding class ids.\n",
    "\n",
    "Take this numpy array as an example. The values in the array represent predictions. The array contains softmax probabilities for five candidate images with six possible classes. `tk.nn.top_k` is used to choose the three classes with the highest probability:\n",
    "\n",
    "```\n",
    "# (5, 6) array\n",
    "a = np.array([[ 0.24879643,  0.07032244,  0.12641572,  0.34763842,  0.07893497,\n",
    "         0.12789202],\n",
    "       [ 0.28086119,  0.27569815,  0.08594638,  0.0178669 ,  0.18063401,\n",
    "         0.15899337],\n",
    "       [ 0.26076848,  0.23664738,  0.08020603,  0.07001922,  0.1134371 ,\n",
    "         0.23892179],\n",
    "       [ 0.11943333,  0.29198961,  0.02605103,  0.26234032,  0.1351348 ,\n",
    "         0.16505091],\n",
    "       [ 0.09561176,  0.34396535,  0.0643941 ,  0.16240774,  0.24206137,\n",
    "         0.09155967]])\n",
    "```\n",
    "\n",
    "Running it through `sess.run(tf.nn.top_k(tf.constant(a), k=3))` produces:\n",
    "\n",
    "```\n",
    "TopKV2(values=array([[ 0.34763842,  0.24879643,  0.12789202],\n",
    "       [ 0.28086119,  0.27569815,  0.18063401],\n",
    "       [ 0.26076848,  0.23892179,  0.23664738],\n",
    "       [ 0.29198961,  0.26234032,  0.16505091],\n",
    "       [ 0.34396535,  0.24206137,  0.16240774]]), indices=array([[3, 0, 5],\n",
    "       [0, 1, 4],\n",
    "       [0, 5, 1],\n",
    "       [1, 3, 5],\n",
    "       [1, 4, 3]], dtype=int32))\n",
    "```\n",
    "\n",
    "Looking just at the first row we get `[ 0.34763842,  0.24879643,  0.12789202]`, you can confirm these are the 3 largest probabilities in `a`. You'll also notice `[3, 0, 5]` are the corresponding indices."
   ]
  },
  {
   "cell_type": "code",
   "execution_count": 198,
   "metadata": {
    "collapsed": false,
    "deletable": true,
    "editable": true
   },
   "outputs": [
    {
     "name": "stdout",
     "output_type": "stream",
     "text": [
      "Top five probabilities = TopKV2(values=array([[ 27.78092766,  19.18608093,  13.85751247,  11.39445972,\n",
      "         11.05629444],\n",
      "       [ 35.4479599 ,  14.69003105,   9.3657589 ,   9.17811584,\n",
      "          8.51419258],\n",
      "       [ 75.55484772,  29.64549637,  20.92959595,  16.45634079,\n",
      "         16.32620621],\n",
      "       [ 25.4091835 ,  20.35381699,  19.75371742,  14.60996532,\n",
      "          7.06182337],\n",
      "       [ 19.30328178,  11.42995644,   8.00972843,   6.87529945,\n",
      "          5.93186474]], dtype=float32), indices=array([[11, 30, 25, 21, 23],\n",
      "       [12,  3, 32, 16,  8],\n",
      "       [13, 12, 40, 34, 28],\n",
      "       [18, 26, 11, 27, 40],\n",
      "       [11, 30, 18, 25, 40]], dtype=int32))\n"
     ]
    }
   ],
   "source": [
    "### Print out the top five softmax probabilities for the predictions on the German traffic sign images found on the web. \n",
    "### Feel free to use as many code cells as needed.\n",
    "with tf.Session() as session:\n",
    "    top_5_probabilities = session.run(tf.nn.top_k(tf.constant(np.array(probabilities)), k = 5))\n",
    "    print(\"Top five probabilities = {}\".format(top_5_probabilities))"
   ]
  },
  {
   "cell_type": "markdown",
   "metadata": {
    "deletable": true,
    "editable": true
   },
   "source": [
    "---\n",
    "\n",
    "## Step 4: Visualize the Neural Network's State with Test Images\n",
    "\n",
    " This Section is not required to complete but acts as an additional excersise for understaning the output of a neural network's weights. While neural networks can be a great learning device they are often referred to as a black box. We can understand what the weights of a neural network look like better by plotting their feature maps. After successfully training your neural network you can see what it's feature maps look like by plotting the output of the network's weight layers in response to a test stimuli image. From these plotted feature maps, it's possible to see what characteristics of an image the network finds interesting. For a sign, maybe the inner network feature maps react with high activation to the sign's boundary outline or to the contrast in the sign's painted symbol.\n",
    "\n",
    " Provided for you below is the function code that allows you to get the visualization output of any tensorflow weight layer you want. The inputs to the function should be a stimuli image, one used during training or a new one you provided, and then the tensorflow variable name that represents the layer's state during the training process, for instance if you wanted to see what the [LeNet lab's](https://classroom.udacity.com/nanodegrees/nd013/parts/fbf77062-5703-404e-b60c-95b78b2f3f9e/modules/6df7ae49-c61c-4bb2-a23e-6527e69209ec/lessons/601ae704-1035-4287-8b11-e2c2716217ad/concepts/d4aca031-508f-4e0b-b493-e7b706120f81) feature maps looked like for it's second convolutional layer you could enter conv2 as the tf_activation variable.\n",
    "\n",
    "For an example of what feature map outputs look like, check out NVIDIA's results in their paper [End-to-End Deep Learning for Self-Driving Cars](https://devblogs.nvidia.com/parallelforall/deep-learning-self-driving-cars/) in the section Visualization of internal CNN State. NVIDIA was able to show that their network's inner weights had high activations to road boundary lines by comparing feature maps from an image with a clear path to one without. Try experimenting with a similar test to show that your trained network's weights are looking for interesting features, whether it's looking at differences in feature maps from images with or without a sign, or even what feature maps look like in a trained network vs a completely untrained one on the same sign image.\n",
    "\n",
    "<figure>\n",
    " <img src=\"visualize_cnn.png\" width=\"380\" alt=\"Combined Image\" />\n",
    " <figcaption>\n",
    " <p></p> \n",
    " <p style=\"text-align: center;\"> Your output should look something like this (above)</p> \n",
    " </figcaption>\n",
    "</figure>\n",
    " <p></p> \n"
   ]
  },
  {
   "cell_type": "code",
   "execution_count": 199,
   "metadata": {
    "collapsed": false,
    "deletable": true,
    "editable": true
   },
   "outputs": [
    {
     "name": "stdout",
     "output_type": "stream",
     "text": [
      "Visualization of ./test/18.jpeg at conv1\n"
     ]
    },
    {
     "data": {
      "image/png": "[encoded data removed]",
      "text/plain": [
       "<matplotlib.figure.Figure at 0x7f88644b2240>"
      ]
     },
     "metadata": {},
     "output_type": "display_data"
    }
   ],
   "source": [
    "### Visualize your network's feature maps here.\n",
    "### Feel free to use as many code cells as needed.\n",
    "\n",
    "# image_input: the test image being fed into the network to produce the feature maps\n",
    "# tf_activation: should be a tf variable name used during your training procedure that represents the calculated state of a specific weight layer\n",
    "# activation_min/max: can be used to view the activation contrast in more detail, by default matplot sets min and max to the actual min and max values of the output\n",
    "# plt_num: used to plot out multiple different weight feature map sets on the same block, just extend the plt number for each new feature map entry\n",
    "\n",
    "def outputFeatureMap(image_input, tf_activation, activation_min=-1, activation_max=-1 ,plt_num=1):\n",
    "    # Here make sure to preprocess your image_input in a way your network expects\n",
    "    # with size, normalization, ect if needed\n",
    "    # image_input =\n",
    "    # Note: x should be the same name as your network's tensorflow data placeholder variable\n",
    "    # If you get an error tf_activation is not defined it maybe having trouble accessing the variable from inside a function\n",
    "    activation = tf_activation.eval(session=session,feed_dict={x : image_input, k: 1.0})\n",
    "    featuremaps = activation.shape[3]\n",
    "    plt.figure(plt_num, figsize=(15,15))\n",
    "    for featuremap in range(featuremaps):\n",
    "        plt.subplot(6,8, featuremap+1) # sets the number of feature maps to show on each row and column\n",
    "        plt.title('FeatureMap ' + str(featuremap)) # displays the feature map number\n",
    "        if activation_min != -1 & activation_max != -1:\n",
    "            plt.imshow(activation[0,:,:, featuremap], interpolation=\"nearest\", vmin =activation_min, vmax=activation_max, cmap=\"gray\")\n",
    "        elif activation_max != -1:\n",
    "            plt.imshow(activation[0,:,:, featuremap], interpolation=\"nearest\", vmax=activation_max, cmap=\"gray\")\n",
    "        elif activation_min !=-1:\n",
    "            plt.imshow(activation[0,:,:, featuremap], interpolation=\"nearest\", vmin=activation_min, cmap=\"gray\")\n",
    "        else:\n",
    "            plt.imshow(activation[0,:,:, featuremap], interpolation=\"nearest\", cmap=\"gray\")\n",
    "\n",
    "test_image = './test/18.jpeg'\n",
    "with tf.Session() as session:\n",
    "    session.run(tf.global_variables_initializer())\n",
    "    image = normalize([np.array(Image.open(test_image))])\n",
    "    print(\"Visualization of {} at conv1\".format(test_image))\n",
    "    outputFeatureMap(image, conv1)"
   ]
  },
  {
   "cell_type": "markdown",
   "metadata": {
    "deletable": true,
    "editable": true
   },
   "source": [
    "### Question 9\n",
    "\n",
    "Discuss how you used the visual output of your trained network's feature maps to show that it had learned to look for interesting characteristics in traffic sign images\n"
   ]
  },
  {
   "cell_type": "markdown",
   "metadata": {
    "deletable": true,
    "editable": true
   },
   "source": [
    "**Answer:** After several attempts, it is found that some feature is captured in every feature map for the image that is successfully classified, but not for the image that is not successfully classified. In other words, the image that is not necessarily successfully classfied can be visually identified if almost black feature maps are included. The feature maps above is an example of the image that is successfuly classified. "
   ]
  },
  {
   "cell_type": "markdown",
   "metadata": {
    "deletable": true,
    "editable": true
   },
   "source": [
    "> **Note**: Once you have completed all of the code implementations and successfully answered each question above, you may finalize your work by exporting the iPython Notebook as an HTML document. You can do this by using the menu above and navigating to  \\n\",\n",
    "    \"**File -> Download as -> HTML (.html)**. Include the finished document along with this notebook as your submission."
   ]
  },
  {
   "cell_type": "markdown",
   "metadata": {
    "deletable": true,
    "editable": true
   },
   "source": [
    "### Project Writeup\n",
    "\n",
    "Once you have completed the code implementation, document your results in a project writeup using this [template](https://github.com/udacity/CarND-Traffic-Sign-Classifier-Project/blob/master/writeup_template.md) as a guide. The writeup can be in a markdown or pdf file. "
   ]
  }
 ],
 "metadata": {
  "anaconda-cloud": {},
  "kernelspec": {
   "display_name": "Python 3",
   "language": "python",
   "name": "python3"
  },
  "language_info": {
   "codemirror_mode": {
    "name": "ipython",
    "version": 3
   },
   "file_extension": ".py",
   "mimetype": "text/x-python",
   "name": "python",
   "nbconvert_exporter": "python",
   "pygments_lexer": "ipython3",
   "version": "3.5.2"
  },
  "widgets": {
   "state": {},
   "version": "1.1.2"
  }
 },
 "nbformat": 4,
 "nbformat_minor": 1
}
