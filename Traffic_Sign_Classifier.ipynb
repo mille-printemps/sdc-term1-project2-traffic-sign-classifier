{
 "cells": [
  {
   "cell_type": "markdown",
   "metadata": {
    "deletable": true,
    "editable": true
   },
   "source": [
    "# Self-Driving Car Engineer Nanodegree\n",
    "\n",
    "## Deep Learning\n",
    "\n",
    "## Project: Build a Traffic Sign Recognition Classifier\n",
    "\n",
    "In this notebook, a template is provided for you to implement your functionality in stages, which is required to successfully complete this project. If additional code is required that cannot be included in the notebook, be sure that the Python code is successfully imported and included in your submission if necessary. \n",
    "\n",
    "> **Note**: Once you have completed all of the code implementations, you need to finalize your work by exporting the iPython Notebook as an HTML document. Before exporting the notebook to html, all of the code cells need to have been run so that reviewers can see the final implementation and output. You can then export the notebook by using the menu above and navigating to  \\n\",\n",
    "    \"**File -> Download as -> HTML (.html)**. Include the finished document along with this notebook as your submission. \n",
    "\n",
    "In addition to implementing code, there is a writeup to complete. The writeup should be completed in a separate file, which can be either a markdown file or a pdf document. There is a [write up template](https://github.com/udacity/CarND-Traffic-Sign-Classifier-Project/blob/master/writeup_template.md) that can be used to guide the writing process. Completing the code template and writeup template will cover all of the [rubric points](https://review.udacity.com/#!/rubrics/481/view) for this project.\n",
    "\n",
    "The [rubric](https://review.udacity.com/#!/rubrics/481/view) contains \"Stand Out Suggestions\" for enhancing the project beyond the minimum requirements. The stand out suggestions are optional. If you decide to pursue the \"stand out suggestions\", you can include the code in this Ipython notebook and also discuss the results in the writeup file.\n",
    "\n",
    "\n",
    ">**Note:** Code and Markdown cells can be executed using the **Shift + Enter** keyboard shortcut. In addition, Markdown cells can be edited by typically double-clicking the cell to enter edit mode."
   ]
  },
  {
   "cell_type": "markdown",
   "metadata": {
    "deletable": true,
    "editable": true
   },
   "source": [
    "---\n",
    "## Step 0: Load The Data"
   ]
  },
  {
   "cell_type": "code",
   "execution_count": 52,
   "metadata": {
    "collapsed": false,
    "deletable": true,
    "editable": true
   },
   "outputs": [],
   "source": [
    "# Load pickled data\n",
    "import pickle\n",
    "\n",
    "# TODO: Fill this in based on where you saved the training and testing data\n",
    "\n",
    "training_file = 'data/train.p'\n",
    "validation_file = 'data/valid.p'\n",
    "testing_file = 'data/test.p'\n",
    "\n",
    "with open(training_file, mode='rb') as f:\n",
    "    train = pickle.load(f)\n",
    "with open(validation_file, mode='rb') as f:\n",
    "    valid = pickle.load(f)\n",
    "with open(testing_file, mode='rb') as f:\n",
    "    test = pickle.load(f)\n",
    "    \n",
    "X_train, y_train = train['features'], train['labels']\n",
    "X_valid, y_valid = valid['features'], valid['labels']\n",
    "X_test, y_test = test['features'], test['labels']\n",
    "\n",
    "assert(len(X_train) == len(y_train))\n",
    "assert(len(X_valid) == len(y_valid))\n",
    "assert(len(X_test) == len(y_test))"
   ]
  },
  {
   "cell_type": "markdown",
   "metadata": {
    "deletable": true,
    "editable": true
   },
   "source": [
    "---\n",
    "\n",
    "## Step 1: Dataset Summary & Exploration\n",
    "\n",
    "The pickled data is a dictionary with 4 key/value pairs:\n",
    "\n",
    "- `'features'` is a 4D array containing raw pixel data of the traffic sign images, (num examples, width, height, channels).\n",
    "- `'labels'` is a 1D array containing the label/class id of the traffic sign. The file `signnames.csv` contains id -> name mappings for each id.\n",
    "- `'sizes'` is a list containing tuples, (width, height) representing the original width and height the image.\n",
    "- `'coords'` is a list containing tuples, (x1, y1, x2, y2) representing coordinates of a bounding box around the sign in the image. **THESE COORDINATES ASSUME THE ORIGINAL IMAGE. THE PICKLED DATA CONTAINS RESIZED VERSIONS (32 by 32) OF THESE IMAGES**\n",
    "\n",
    "Complete the basic data summary below. Use python, numpy and/or pandas methods to calculate the data summary rather than hard coding the results. For example, the [pandas shape method](http://pandas.pydata.org/pandas-docs/stable/generated/pandas.DataFrame.shape.html) might be useful for calculating some of the summary results. "
   ]
  },
  {
   "cell_type": "markdown",
   "metadata": {
    "deletable": true,
    "editable": true
   },
   "source": [
    "### Provide a Basic Summary of the Data Set Using Python, Numpy and/or Pandas"
   ]
  },
  {
   "cell_type": "code",
   "execution_count": 53,
   "metadata": {
    "collapsed": false,
    "deletable": true,
    "editable": true,
    "scrolled": true
   },
   "outputs": [
    {
     "name": "stdout",
     "output_type": "stream",
     "text": [
      "Number of training examples = 34799\n",
      "Number of testing examples = 12630\n",
      "Image data shape = (32, 32, 3)\n",
      "Number of classes = 43\n"
     ]
    }
   ],
   "source": [
    "### Replace each question mark with the appropriate value. \n",
    "### Use python, pandas or numpy methods rather than hard coding the results\n",
    "import numpy as np\n",
    "\n",
    "# TODO: Number of training examples\n",
    "n_train = X_train.shape[0]\n",
    "\n",
    "# TODO: Number of testing examples.\n",
    "n_test = X_test.shape[0]\n",
    "\n",
    "# TODO: What's the shape of an traffic sign image?\n",
    "image_shape = X_train[0].shape\n",
    "\n",
    "# TODO: How many unique classes/labels there are in the dataset.\n",
    "n_classes = len(np.unique(np.concatenate([y_train, y_valid, y_test])))\n",
    "\n",
    "print(\"Number of training examples =\", n_train)\n",
    "print(\"Number of testing examples =\", n_test)\n",
    "print(\"Image data shape =\", image_shape)\n",
    "print(\"Number of classes =\", n_classes)"
   ]
  },
  {
   "cell_type": "markdown",
   "metadata": {
    "deletable": true,
    "editable": true
   },
   "source": [
    "### Include an exploratory visualization of the dataset"
   ]
  },
  {
   "cell_type": "markdown",
   "metadata": {
    "deletable": true,
    "editable": true
   },
   "source": [
    "Visualize the German Traffic Signs Dataset using the pickled file(s). This is open ended, suggestions include: plotting traffic sign images, plotting the count of each sign, etc.\n",
    "\n",
    "The [Matplotlib](http://matplotlib.org/) [examples](http://matplotlib.org/examples/index.html) and [gallery](http://matplotlib.org/gallery.html) pages are a great resource for doing visualizations in Python.\n",
    "\n",
    "**NOTE:** It's recommended you start with something simple first. If you wish to do more, come back to it after you've completed the rest of the sections."
   ]
  },
  {
   "cell_type": "code",
   "execution_count": 54,
   "metadata": {
    "collapsed": false,
    "deletable": true,
    "editable": true,
    "scrolled": true
   },
   "outputs": [
    {
     "name": "stdout",
     "output_type": "stream",
     "text": [
      "4\n"
     ]
    },
    {
     "data": {
      "image/png": "[encoded data removed]",
      "text/plain": [
       "<matplotlib.figure.Figure at 0x7f2085d9d7f0>"
      ]
     },
     "metadata": {},
     "output_type": "display_data"
    }
   ],
   "source": [
    "### Data exploration visualization code goes here.\n",
    "### Feel free to use as many code cells as needed.\n",
    "import random\n",
    "import matplotlib.pyplot as plt\n",
    "# Visualizations will be shown in the notebook.\n",
    "%matplotlib inline\n",
    "\n",
    "index = random.randint(0, len(X_train))\n",
    "image = X_train[index].squeeze()\n",
    "\n",
    "plt.figure(figsize=(1,1))\n",
    "plt.imshow(image, cmap=\"jet\")\n",
    "print(y_train[index])"
   ]
  },
  {
   "cell_type": "markdown",
   "metadata": {
    "deletable": true,
    "editable": true
   },
   "source": [
    "----\n",
    "\n",
    "## Step 2: Design and Test a Model Architecture\n",
    "\n",
    "Design and implement a deep learning model that learns to recognize traffic signs. Train and test your model on the [German Traffic Sign Dataset](http://benchmark.ini.rub.de/?section=gtsrb&subsection=dataset).\n",
    "\n",
    "The LeNet-5 implementation shown in the [classroom](https://classroom.udacity.com/nanodegrees/nd013/parts/fbf77062-5703-404e-b60c-95b78b2f3f9e/modules/6df7ae49-c61c-4bb2-a23e-6527e69209ec/lessons/601ae704-1035-4287-8b11-e2c2716217ad/concepts/d4aca031-508f-4e0b-b493-e7b706120f81) at the end of the CNN lesson is a solid starting point. You'll have to change the number of classes and possibly the preprocessing, but aside from that it's plug and play! \n",
    "\n",
    "With the LeNet-5 solution from the lecture, you should expect a validation set accuracy of about 0.89. To meet specifications, the validation set accuracy will need to be at least 0.93. It is possible to get an even higher accuracy, but 0.93 is the minimum for a successful project submission. \n",
    "\n",
    "There are various aspects to consider when thinking about this problem:\n",
    "\n",
    "- Neural network architecture (is the network over or underfitting?)\n",
    "- Play around preprocessing techniques (normalization, rgb to grayscale, etc)\n",
    "- Number of examples per label (some have more than others).\n",
    "- Generate fake data.\n",
    "\n",
    "Here is an example of a [published baseline model on this problem](http://yann.lecun.com/exdb/publis/pdf/sermanet-ijcnn-11.pdf). It's not required to be familiar with the approach used in the paper but, it's good practice to try to read papers like these."
   ]
  },
  {
   "cell_type": "markdown",
   "metadata": {
    "deletable": true,
    "editable": true
   },
   "source": [
    "### Pre-process the Data Set (normalization, grayscale, etc.)"
   ]
  },
  {
   "cell_type": "markdown",
   "metadata": {
    "deletable": true,
    "editable": true
   },
   "source": [
    "Use the code cell (or multiple code cells, if necessary) to implement the first step of your project."
   ]
  },
  {
   "cell_type": "code",
   "execution_count": 55,
   "metadata": {
    "collapsed": false,
    "deletable": true,
    "editable": true
   },
   "outputs": [],
   "source": [
    "### Preprocess the data here. Preprocessing steps could include normalization, converting to grayscale, etc.\n",
    "### Feel free to use as many code cells as needed.\n",
    "import cv2\n",
    "\n",
    "# Normalization includes \n",
    "# - Transformation to gray scale\n",
    "# - Resizing\n",
    "def normalize(images):\n",
    "    normalized = []\n",
    "    for image in images:\n",
    "        image = cv2.cvtColor(image, cv2.COLOR_BGR2GRAY)\n",
    "        image = cv2.resize(image, (image_shape[0], image_shape[1]))\n",
    "        normalized.append(image[:, :, np.newaxis])\n",
    "    return normalized\n",
    "\n",
    "X_train = normalize(X_train)\n",
    "X_valid = normalize(X_valid)\n",
    "X_test = normalize(X_test)"
   ]
  },
  {
   "cell_type": "markdown",
   "metadata": {
    "deletable": true,
    "editable": true
   },
   "source": [
    "### Model Architecture"
   ]
  },
  {
   "cell_type": "code",
   "execution_count": 56,
   "metadata": {
    "collapsed": true,
    "deletable": true,
    "editable": true
   },
   "outputs": [],
   "source": [
    "### Define your architecture here.\n",
    "### Feel free to use as many code cells as needed.\n",
    "import tensorflow as tf\n",
    "\n",
    "def model(x, k):\n",
    "    # Arguments used for tf.truncated_normal, randomly defines variables for the weights and biases for each layer\n",
    "    mu = 0\n",
    "    sigma = 0.1\n",
    "    pi = 'VALID' \n",
    "    \n",
    "    # Layer 1: Convolutional. Input = 32x32x1. Output = 28x28x6. 28 = (32 - 5 + 2 * 0)/1 + 1\n",
    "    conv1_W = tf.Variable(tf.truncated_normal(shape=(5, 5, 1, 6), mean = mu, stddev = sigma))\n",
    "    conv1_b = tf.Variable(tf.zeros(6))\n",
    "    conv1   = tf.nn.conv2d(x, conv1_W, strides=[1, 1, 1, 1], padding = pi) + conv1_b\n",
    "\n",
    "    # Activation.\n",
    "    conv1 = tf.nn.relu(conv1)\n",
    "\n",
    "    # Pooling. Input = 28x28x6. Output = 14x14x6. 14 = 28/2\n",
    "    conv1 = tf.nn.max_pool(conv1, ksize=[1, 2, 2, 1], strides=[1, 2, 2, 1], padding = pi)\n",
    "    \n",
    "    # Dropout\n",
    "    conv1 = tf.nn.dropout(conv1, k)\n",
    "\n",
    "    # Layer 2: Convolutional. Input = 14x14x6. Output = 10x10x16. 10 = (14 - 5 + 2 * 0)/1 + 1\n",
    "    conv2_W = tf.Variable(tf.truncated_normal(shape=(5, 5, 6, 16), mean = mu, stddev = sigma))\n",
    "    conv2_b = tf.Variable(tf.zeros(16))\n",
    "    conv2   = tf.nn.conv2d(conv1, conv2_W, strides=[1, 1, 1, 1], padding = pi) + conv2_b\n",
    "    \n",
    "    # Activation.\n",
    "    conv2 = tf.nn.relu(conv2)\n",
    "\n",
    "    # Pooling. Input = 10x10x16. Output = 5x5x16. 5 = 10/2\n",
    "    conv2 = tf.nn.max_pool(conv2, ksize=[1, 2, 2, 1], strides=[1, 2, 2, 1], padding = pi)\n",
    "    \n",
    "    # Dropout\n",
    "    conv2 = tf.nn.dropout(conv2, k)\n",
    "    \n",
    "    # Flatten. Input = 5x5x16. Output = 400. 400 = 25 * 16\n",
    "    fc0   = tf.contrib.layers.flatten(conv2)\n",
    "    \n",
    "    # Layer 3: Fully Connected. Input = 400. Output = 120.\n",
    "    fc1_W = tf.Variable(tf.truncated_normal(shape=(400, 120), mean = mu, stddev = sigma))\n",
    "    fc1_b = tf.Variable(tf.zeros(120))\n",
    "    fc1   = tf.matmul(fc0, fc1_W) + fc1_b\n",
    "    \n",
    "    # Activation.\n",
    "    fc1    = tf.nn.relu(fc1)\n",
    "\n",
    "    # Layer 4: Fully Connected. Input = 120. Output = 84.\n",
    "    fc2_W  = tf.Variable(tf.truncated_normal(shape=(120, 84), mean = mu, stddev = sigma))\n",
    "    fc2_b  = tf.Variable(tf.zeros(84))\n",
    "    fc2    = tf.matmul(fc1, fc2_W) + fc2_b\n",
    "    \n",
    "    # Activation.\n",
    "    fc2    = tf.nn.relu(fc2)\n",
    "\n",
    "    # Layer 5: Fully Connected. Input = 84. Output = n_classes.\n",
    "    fc3_W  = tf.Variable(tf.truncated_normal(shape=(84, n_classes), mean = mu, stddev = sigma))\n",
    "    fc3_b  = tf.Variable(tf.zeros(n_classes))\n",
    "    logits = tf.matmul(fc2, fc3_W) + fc3_b\n",
    "    \n",
    "    return logits"
   ]
  },
  {
   "cell_type": "markdown",
   "metadata": {
    "deletable": true,
    "editable": true
   },
   "source": [
    "### Train, Validate and Test the Model"
   ]
  },
  {
   "cell_type": "markdown",
   "metadata": {
    "deletable": true,
    "editable": true
   },
   "source": [
    "A validation set can be used to assess how well the model is performing. A low accuracy on the training and validation\n",
    "sets imply underfitting. A high accuracy on the training set but low accuracy on the validation set implies overfitting."
   ]
  },
  {
   "cell_type": "code",
   "execution_count": 57,
   "metadata": {
    "collapsed": false,
    "deletable": true,
    "editable": true,
    "scrolled": false
   },
   "outputs": [
    {
     "name": "stdout",
     "output_type": "stream",
     "text": [
      "Training...\n",
      "\n",
      "EPOCH 1 ...\n",
      "Training Loss = 8.397\n",
      "Validation Loss = 3.445\n",
      "Validation Accuracy = 0.167\n",
      "\n",
      "EPOCH 2 ...\n",
      "Training Loss = 3.215\n",
      "Validation Loss = 2.891\n",
      "Validation Accuracy = 0.325\n",
      "\n",
      "EPOCH 3 ...\n",
      "Training Loss = 2.609\n",
      "Validation Loss = 2.139\n",
      "Validation Accuracy = 0.472\n",
      "\n",
      "EPOCH 4 ...\n",
      "Training Loss = 1.968\n",
      "Validation Loss = 1.553\n",
      "Validation Accuracy = 0.614\n",
      "\n",
      "EPOCH 5 ...\n",
      "Training Loss = 1.555\n",
      "Validation Loss = 1.213\n",
      "Validation Accuracy = 0.691\n",
      "\n",
      "EPOCH 6 ...\n",
      "Training Loss = 1.324\n",
      "Validation Loss = 1.030\n",
      "Validation Accuracy = 0.753\n",
      "\n",
      "EPOCH 7 ...\n",
      "Training Loss = 1.162\n",
      "Validation Loss = 0.892\n",
      "Validation Accuracy = 0.784\n",
      "\n",
      "EPOCH 8 ...\n",
      "Training Loss = 1.043\n",
      "Validation Loss = 0.813\n",
      "Validation Accuracy = 0.793\n",
      "\n",
      "EPOCH 9 ...\n",
      "Training Loss = 0.957\n",
      "Validation Loss = 0.725\n",
      "Validation Accuracy = 0.823\n",
      "\n",
      "EPOCH 10 ...\n",
      "Training Loss = 0.882\n",
      "Validation Loss = 0.692\n",
      "Validation Accuracy = 0.834\n",
      "\n",
      "EPOCH 11 ...\n",
      "Training Loss = 0.816\n",
      "Validation Loss = 0.643\n",
      "Validation Accuracy = 0.843\n",
      "\n",
      "EPOCH 12 ...\n",
      "Training Loss = 0.763\n",
      "Validation Loss = 0.614\n",
      "Validation Accuracy = 0.852\n",
      "\n",
      "EPOCH 13 ...\n",
      "Training Loss = 0.723\n",
      "Validation Loss = 0.575\n",
      "Validation Accuracy = 0.863\n",
      "\n",
      "EPOCH 14 ...\n",
      "Training Loss = 0.682\n",
      "Validation Loss = 0.558\n",
      "Validation Accuracy = 0.874\n",
      "\n",
      "EPOCH 15 ...\n",
      "Training Loss = 0.649\n",
      "Validation Loss = 0.542\n",
      "Validation Accuracy = 0.863\n",
      "\n",
      "EPOCH 16 ...\n",
      "Training Loss = 0.617\n",
      "Validation Loss = 0.529\n",
      "Validation Accuracy = 0.866\n",
      "\n",
      "EPOCH 17 ...\n",
      "Training Loss = 0.589\n",
      "Validation Loss = 0.510\n",
      "Validation Accuracy = 0.877\n",
      "\n",
      "EPOCH 18 ...\n",
      "Training Loss = 0.577\n",
      "Validation Loss = 0.475\n",
      "Validation Accuracy = 0.890\n",
      "\n",
      "EPOCH 19 ...\n",
      "Training Loss = 0.538\n",
      "Validation Loss = 0.462\n",
      "Validation Accuracy = 0.891\n",
      "\n",
      "EPOCH 20 ...\n",
      "Training Loss = 0.516\n",
      "Validation Loss = 0.410\n",
      "Validation Accuracy = 0.896\n",
      "\n",
      "EPOCH 21 ...\n",
      "Training Loss = 0.501\n",
      "Validation Loss = 0.414\n",
      "Validation Accuracy = 0.890\n",
      "\n",
      "EPOCH 22 ...\n",
      "Training Loss = 0.481\n",
      "Validation Loss = 0.405\n",
      "Validation Accuracy = 0.890\n",
      "\n",
      "EPOCH 23 ...\n",
      "Training Loss = 0.466\n",
      "Validation Loss = 0.399\n",
      "Validation Accuracy = 0.898\n",
      "\n",
      "EPOCH 24 ...\n",
      "Training Loss = 0.447\n",
      "Validation Loss = 0.391\n",
      "Validation Accuracy = 0.900\n",
      "\n",
      "EPOCH 25 ...\n",
      "Training Loss = 0.436\n",
      "Validation Loss = 0.375\n",
      "Validation Accuracy = 0.902\n",
      "\n",
      "EPOCH 26 ...\n",
      "Training Loss = 0.420\n",
      "Validation Loss = 0.378\n",
      "Validation Accuracy = 0.896\n",
      "\n",
      "EPOCH 27 ...\n",
      "Training Loss = 0.408\n",
      "Validation Loss = 0.379\n",
      "Validation Accuracy = 0.898\n",
      "\n",
      "EPOCH 28 ...\n",
      "Training Loss = 0.390\n",
      "Validation Loss = 0.350\n",
      "Validation Accuracy = 0.910\n",
      "\n",
      "EPOCH 29 ...\n",
      "Training Loss = 0.380\n",
      "Validation Loss = 0.330\n",
      "Validation Accuracy = 0.902\n",
      "\n",
      "EPOCH 30 ...\n",
      "Training Loss = 0.363\n",
      "Validation Loss = 0.284\n",
      "Validation Accuracy = 0.924\n",
      "\n",
      "EPOCH 31 ...\n",
      "Training Loss = 0.353\n",
      "Validation Loss = 0.323\n",
      "Validation Accuracy = 0.915\n",
      "\n",
      "EPOCH 32 ...\n",
      "Training Loss = 0.343\n",
      "Validation Loss = 0.317\n",
      "Validation Accuracy = 0.915\n",
      "\n",
      "EPOCH 33 ...\n",
      "Training Loss = 0.336\n",
      "Validation Loss = 0.339\n",
      "Validation Accuracy = 0.911\n",
      "\n",
      "EPOCH 34 ...\n",
      "Training Loss = 0.325\n",
      "Validation Loss = 0.333\n",
      "Validation Accuracy = 0.909\n",
      "\n",
      "EPOCH 35 ...\n",
      "Training Loss = 0.327\n",
      "Validation Loss = 0.347\n",
      "Validation Accuracy = 0.912\n",
      "\n",
      "EPOCH 36 ...\n",
      "Training Loss = 0.297\n",
      "Validation Loss = 0.316\n",
      "Validation Accuracy = 0.916\n",
      "\n",
      "EPOCH 37 ...\n",
      "Training Loss = 0.302\n",
      "Validation Loss = 0.326\n",
      "Validation Accuracy = 0.914\n",
      "\n",
      "EPOCH 38 ...\n",
      "Training Loss = 0.295\n",
      "Validation Loss = 0.313\n",
      "Validation Accuracy = 0.918\n",
      "\n",
      "EPOCH 39 ...\n",
      "Training Loss = 0.281\n",
      "Validation Loss = 0.308\n",
      "Validation Accuracy = 0.920\n",
      "\n",
      "EPOCH 40 ...\n",
      "Training Loss = 0.276\n",
      "Validation Loss = 0.300\n",
      "Validation Accuracy = 0.925\n",
      "\n",
      "EPOCH 41 ...\n",
      "Training Loss = 0.271\n",
      "Validation Loss = 0.297\n",
      "Validation Accuracy = 0.923\n",
      "\n",
      "EPOCH 42 ...\n",
      "Training Loss = 0.260\n",
      "Validation Loss = 0.249\n",
      "Validation Accuracy = 0.931\n",
      "\n",
      "EPOCH 43 ...\n",
      "Training Loss = 0.251\n",
      "Validation Loss = 0.290\n",
      "Validation Accuracy = 0.926\n",
      "\n",
      "EPOCH 44 ...\n",
      "Training Loss = 0.248\n",
      "Validation Loss = 0.308\n",
      "Validation Accuracy = 0.922\n",
      "\n",
      "EPOCH 45 ...\n",
      "Training Loss = 0.233\n",
      "Validation Loss = 0.318\n",
      "Validation Accuracy = 0.917\n",
      "\n",
      "EPOCH 46 ...\n",
      "Training Loss = 0.243\n",
      "Validation Loss = 0.318\n",
      "Validation Accuracy = 0.917\n",
      "\n",
      "EPOCH 47 ...\n",
      "Training Loss = 0.236\n",
      "Validation Loss = 0.291\n",
      "Validation Accuracy = 0.926\n",
      "\n",
      "EPOCH 48 ...\n",
      "Training Loss = 0.231\n",
      "Validation Loss = 0.289\n",
      "Validation Accuracy = 0.923\n",
      "\n",
      "EPOCH 49 ...\n",
      "Training Loss = 0.213\n",
      "Validation Loss = 0.283\n",
      "Validation Accuracy = 0.921\n",
      "\n",
      "EPOCH 50 ...\n",
      "Training Loss = 0.218\n",
      "Validation Loss = 0.292\n",
      "Validation Accuracy = 0.924\n",
      "\n",
      "EPOCH 51 ...\n",
      "Training Loss = 0.211\n",
      "Validation Loss = 0.290\n",
      "Validation Accuracy = 0.922\n",
      "\n",
      "EPOCH 52 ...\n",
      "Training Loss = 0.211\n",
      "Validation Loss = 0.288\n",
      "Validation Accuracy = 0.930\n",
      "\n",
      "EPOCH 53 ...\n",
      "Training Loss = 0.202\n",
      "Validation Loss = 0.232\n",
      "Validation Accuracy = 0.933\n",
      "\n",
      "EPOCH 54 ...\n",
      "Training Loss = 0.201\n",
      "Validation Loss = 0.269\n",
      "Validation Accuracy = 0.923\n",
      "\n",
      "EPOCH 55 ...\n",
      "Training Loss = 0.196\n",
      "Validation Loss = 0.295\n",
      "Validation Accuracy = 0.929\n",
      "\n",
      "EPOCH 56 ...\n",
      "Training Loss = 0.202\n",
      "Validation Loss = 0.236\n",
      "Validation Accuracy = 0.933\n",
      "\n",
      "EPOCH 57 ...\n",
      "Training Loss = 0.192\n",
      "Validation Loss = 0.223\n",
      "Validation Accuracy = 0.937\n",
      "\n",
      "EPOCH 58 ...\n",
      "Training Loss = 0.186\n",
      "Validation Loss = 0.323\n",
      "Validation Accuracy = 0.929\n",
      "\n",
      "EPOCH 59 ...\n",
      "Training Loss = 0.184\n",
      "Validation Loss = 0.303\n",
      "Validation Accuracy = 0.934\n",
      "\n",
      "EPOCH 60 ...\n",
      "Training Loss = 0.179\n",
      "Validation Loss = 0.286\n",
      "Validation Accuracy = 0.935\n",
      "\n",
      "EPOCH 61 ...\n",
      "Training Loss = 0.185\n",
      "Validation Loss = 0.336\n",
      "Validation Accuracy = 0.921\n",
      "\n",
      "EPOCH 62 ...\n",
      "Training Loss = 0.178\n",
      "Validation Loss = 0.316\n",
      "Validation Accuracy = 0.931\n",
      "\n",
      "EPOCH 63 ...\n",
      "Training Loss = 0.178\n",
      "Validation Loss = 0.312\n",
      "Validation Accuracy = 0.934\n",
      "\n",
      "EPOCH 64 ...\n",
      "Training Loss = 0.165\n",
      "Validation Loss = 0.355\n",
      "Validation Accuracy = 0.929\n",
      "\n",
      "EPOCH 65 ...\n",
      "Training Loss = 0.165\n",
      "Validation Loss = 0.304\n",
      "Validation Accuracy = 0.930\n",
      "\n",
      "EPOCH 66 ...\n",
      "Training Loss = 0.169\n",
      "Validation Loss = 0.323\n",
      "Validation Accuracy = 0.937\n",
      "\n",
      "EPOCH 67 ...\n",
      "Training Loss = 0.162\n",
      "Validation Loss = 0.305\n",
      "Validation Accuracy = 0.932\n",
      "\n",
      "EPOCH 68 ...\n",
      "Training Loss = 0.159\n",
      "Validation Loss = 0.307\n",
      "Validation Accuracy = 0.938\n",
      "\n",
      "EPOCH 69 ...\n",
      "Training Loss = 0.161\n",
      "Validation Loss = 0.275\n",
      "Validation Accuracy = 0.933\n",
      "\n",
      "EPOCH 70 ...\n",
      "Training Loss = 0.158\n",
      "Validation Loss = 0.347\n",
      "Validation Accuracy = 0.929\n",
      "\n",
      "EPOCH 71 ...\n",
      "Training Loss = 0.148\n",
      "Validation Loss = 0.249\n",
      "Validation Accuracy = 0.936\n",
      "\n",
      "EPOCH 72 ...\n",
      "Training Loss = 0.144\n",
      "Validation Loss = 0.277\n",
      "Validation Accuracy = 0.936\n",
      "\n",
      "EPOCH 73 ...\n",
      "Training Loss = 0.160\n",
      "Validation Loss = 0.305\n",
      "Validation Accuracy = 0.928\n",
      "\n",
      "EPOCH 74 ...\n",
      "Training Loss = 0.152\n",
      "Validation Loss = 0.299\n",
      "Validation Accuracy = 0.937\n",
      "\n",
      "EPOCH 75 ...\n",
      "Training Loss = 0.150\n",
      "Validation Loss = 0.266\n",
      "Validation Accuracy = 0.934\n",
      "\n",
      "EPOCH 76 ...\n",
      "Training Loss = 0.139\n",
      "Validation Loss = 0.295\n",
      "Validation Accuracy = 0.937\n",
      "\n",
      "EPOCH 77 ...\n",
      "Training Loss = 0.136\n",
      "Validation Loss = 0.302\n",
      "Validation Accuracy = 0.932\n",
      "\n",
      "EPOCH 78 ...\n",
      "Training Loss = 0.138\n",
      "Validation Loss = 0.265\n",
      "Validation Accuracy = 0.937\n",
      "\n",
      "EPOCH 79 ...\n",
      "Training Loss = 0.128\n",
      "Validation Loss = 0.296\n",
      "Validation Accuracy = 0.938\n",
      "\n",
      "EPOCH 80 ...\n",
      "Training Loss = 0.140\n",
      "Validation Loss = 0.311\n",
      "Validation Accuracy = 0.937\n",
      "\n",
      "EPOCH 81 ...\n",
      "Training Loss = 0.132\n",
      "Validation Loss = 0.366\n",
      "Validation Accuracy = 0.934\n",
      "\n",
      "EPOCH 82 ...\n",
      "Training Loss = 0.133\n",
      "Validation Loss = 0.269\n",
      "Validation Accuracy = 0.939\n",
      "\n",
      "EPOCH 83 ...\n",
      "Training Loss = 0.139\n",
      "Validation Loss = 0.284\n",
      "Validation Accuracy = 0.935\n",
      "\n",
      "EPOCH 84 ...\n",
      "Training Loss = 0.137\n",
      "Validation Loss = 0.274\n",
      "Validation Accuracy = 0.941\n",
      "\n",
      "EPOCH 85 ...\n",
      "Training Loss = 0.134\n",
      "Validation Loss = 0.303\n",
      "Validation Accuracy = 0.932\n",
      "\n",
      "EPOCH 86 ...\n",
      "Training Loss = 0.130\n",
      "Validation Loss = 0.304\n",
      "Validation Accuracy = 0.941\n",
      "\n",
      "EPOCH 87 ...\n",
      "Training Loss = 0.127\n",
      "Validation Loss = 0.271\n",
      "Validation Accuracy = 0.944\n",
      "\n",
      "EPOCH 88 ...\n",
      "Training Loss = 0.124\n",
      "Validation Loss = 0.344\n",
      "Validation Accuracy = 0.930\n",
      "\n",
      "EPOCH 89 ...\n",
      "Training Loss = 0.124\n",
      "Validation Loss = 0.311\n",
      "Validation Accuracy = 0.943\n",
      "\n",
      "EPOCH 90 ...\n",
      "Training Loss = 0.129\n",
      "Validation Loss = 0.339\n",
      "Validation Accuracy = 0.932\n",
      "\n",
      "Model saved\n",
      "\n",
      "Test Loss = 0.358\n",
      "Test Accuracy = 0.931\n"
     ]
    }
   ],
   "source": [
    "### Train your model here.\n",
    "### Calculate and report the accuracy on the training and validation set.\n",
    "### Once a final model architecture is selected, \n",
    "### the accuracy on the test set should be calculated and reported as well.\n",
    "### Feel free to use as many code cells as needed.\n",
    "\n",
    "import sklearn as skl\n",
    "\n",
    "# Named constants\n",
    "MODEL_FILE = './model'\n",
    "LEARNING_RATE = 0.001\n",
    "EPOCHS = 90\n",
    "BATCH_SIZE = 512\n",
    "KEEP_RATE = 0.7\n",
    "\n",
    "# Variables\n",
    "x = tf.placeholder(tf.float32, (None, image_shape[0], image_shape[1], 1))\n",
    "y = tf.placeholder(tf.int32, (None))\n",
    "one_hot_y = tf.one_hot(y, n_classes)\n",
    "k = tf.placeholder(tf.float32)\n",
    "\n",
    "# Formulas\n",
    "logits = model(x, k)\n",
    "prediction_operation = tf.nn.softmax_cross_entropy_with_logits(logits = logits, labels = one_hot_y)\n",
    "loss_operation = tf.reduce_mean(prediction_operation)\n",
    "\n",
    "optimizer = tf.train.AdamOptimizer(learning_rate = LEARNING_RATE)\n",
    "training_operation = optimizer.minimize(loss_operation)\n",
    "\n",
    "correct_prediction = tf.equal(tf.argmax(logits, 1), tf.argmax(one_hot_y, 1))\n",
    "accuracy_operation = tf.reduce_mean(tf.cast(correct_prediction, tf.float32))\n",
    "saver = tf.train.Saver()\n",
    "\n",
    "# Evaluation function\n",
    "def evaluate(X_data, y_data):\n",
    "    n_examples = len(X_data)\n",
    "    total_loss = 0\n",
    "    total_accuracy = 0\n",
    "    session = tf.get_default_session()\n",
    "    for offset in range(0, n_examples, BATCH_SIZE):\n",
    "        batch_x, batch_y = X_data[offset:offset+BATCH_SIZE], y_data[offset:offset+BATCH_SIZE]\n",
    "        loss, accuracy = session.run([loss_operation, accuracy_operation], feed_dict={x: batch_x, y: batch_y, k: 1.0})\n",
    "        total_loss += (loss * len(batch_x))\n",
    "        total_accuracy += (accuracy * len(batch_x))\n",
    "    return total_loss / n_examples, total_accuracy / n_examples\n",
    "\n",
    "# Training and evaluation session\n",
    "with tf.Session() as session:\n",
    "    session.run(tf.global_variables_initializer())\n",
    "    n_examples = n_train\n",
    "    \n",
    "    print(\"Training...\")\n",
    "    print()\n",
    "    for i in range(EPOCHS):\n",
    "        prediction = 0\n",
    "        loss = 0\n",
    "        total_loss = 0\n",
    "        X_train, y_train = skl.utils.shuffle(X_train, y_train)\n",
    "        for offset in range(0, n_examples, BATCH_SIZE):\n",
    "            end = offset + BATCH_SIZE\n",
    "            batch_x, batch_y = X_train[offset:end], y_train[offset:end]\n",
    "            prediction, loss, _ = session.run([prediction_operation, loss_operation, training_operation], \n",
    "                                              feed_dict={x: batch_x, y: batch_y, k: KEEP_RATE})\n",
    "            total_loss += (loss * len(batch_x))\n",
    "            \n",
    "        validation_loss, validation_accuracy = evaluate(X_valid, y_valid)\n",
    "        print(\"EPOCH {} ...\".format(i+1))\n",
    "        print(\"Training Loss = {:.3f}\".format(total_loss / n_examples))\n",
    "        print(\"Validation Loss = {:.3f}\".format(validation_loss))\n",
    "        print(\"Validation Accuracy = {:.3f}\".format(validation_accuracy))\n",
    "        print()\n",
    "        \n",
    "    saver.save(session, MODEL_FILE)\n",
    "    print(\"Model saved\")\n",
    "    print()\n",
    "\n",
    "# Testing session    \n",
    "with tf.Session() as session:\n",
    "    saver.restore(session, tf.train.latest_checkpoint('.'))\n",
    "\n",
    "    test_loss, test_accuracy = evaluate(X_test, y_test)\n",
    "    print(\"Test Loss = {:.3f}\".format(test_loss))\n",
    "    print(\"Test Accuracy = {:.3f}\".format(test_accuracy))\n"
   ]
  },
  {
   "cell_type": "markdown",
   "metadata": {
    "deletable": true,
    "editable": true
   },
   "source": [
    "---\n",
    "\n",
    "## Step 3: Test a Model on New Images\n",
    "\n",
    "To give yourself more insight into how your model is working, download at least five pictures of German traffic signs from the web and use your model to predict the traffic sign type.\n",
    "\n",
    "You may find `signnames.csv` useful as it contains mappings from the class id (integer) to the actual sign name."
   ]
  },
  {
   "cell_type": "markdown",
   "metadata": {
    "deletable": true,
    "editable": true
   },
   "source": [
    "### Load and Output the Images"
   ]
  },
  {
   "cell_type": "code",
   "execution_count": 58,
   "metadata": {
    "collapsed": false,
    "deletable": true,
    "editable": true
   },
   "outputs": [
    {
     "data": {
      "image/png": "[encoded data removed]",
      "text/plain": [
       "<matplotlib.figure.Figure at 0x7f20881ef240>"
      ]
     },
     "metadata": {},
     "output_type": "display_data"
    },
    {
     "data": {
      "image/png": "[encoded data removed]",
      "text/plain": [
       "<matplotlib.figure.Figure at 0x7f20876cb748>"
      ]
     },
     "metadata": {},
     "output_type": "display_data"
    },
    {
     "data": {
      "image/png": "[encoded data removed]",
      "text/plain": [
       "<matplotlib.figure.Figure at 0x7f208733dba8>"
      ]
     },
     "metadata": {},
     "output_type": "display_data"
    },
    {
     "data": {
      "image/png": "[encoded data removed]",
      "text/plain": [
       "<matplotlib.figure.Figure at 0x7f20865c2208>"
      ]
     },
     "metadata": {},
     "output_type": "display_data"
    },
    {
     "data": {
      "image/png": "[encoded data removed]",
      "text/plain": [
       "<matplotlib.figure.Figure at 0x7f20855cd860>"
      ]
     },
     "metadata": {},
     "output_type": "display_data"
    }
   ],
   "source": [
    "### Load the images and plot them here.\n",
    "### Feel free to use as many code cells as needed.\n",
    "import os\n",
    "from PIL import Image\n",
    "\n",
    "for root, dir, files in os.walk('./test'):\n",
    "    for file in files:\n",
    "        image = np.array(Image.open(os.path.join(root, file)))\n",
    "        plt.figure(figsize=(1,1))\n",
    "        plt.imshow(image, cmap=\"jet\")"
   ]
  },
  {
   "cell_type": "markdown",
   "metadata": {
    "deletable": true,
    "editable": true
   },
   "source": [
    "### Predict the Sign Type for Each Image"
   ]
  },
  {
   "cell_type": "code",
   "execution_count": 59,
   "metadata": {
    "collapsed": false,
    "deletable": true,
    "editable": true
   },
   "outputs": [
    {
     "name": "stdout",
     "output_type": "stream",
     "text": [
      "11.jpeg => 11\n",
      "12.jpeg => 12\n",
      "13.jpeg => 13\n",
      "23.jpeg => 11\n",
      "18.jpeg => 18\n"
     ]
    }
   ],
   "source": [
    "### Run the predictions here and use the model to output the prediction for each image.\n",
    "### Make sure to pre-process the images with the same pre-processing pipeline used earlier.\n",
    "### Feel free to use as many code cells as needed.\n",
    "\n",
    "probabilities = []\n",
    "predictions = []\n",
    "with tf.Session() as session:\n",
    "    saver.restore(session, MODEL_FILE)\n",
    "    for root, dir, files in os.walk('./test'):\n",
    "        for file in files:\n",
    "            images = normalize([np.array(Image.open(os.path.join(root, file)))])\n",
    "            probability = logits.eval(feed_dict={x: images, k: 1.0})[0]\n",
    "            probabilities.append(probability)\n",
    "            label = np.argmax(probability)\n",
    "            predictions.append(1 if int(os.path.splitext(file)[0]) == label else 0)\n",
    "            print(\"{} => {}\".format(file, label))"
   ]
  },
  {
   "cell_type": "markdown",
   "metadata": {
    "deletable": true,
    "editable": true
   },
   "source": [
    "### Analyze Performance"
   ]
  },
  {
   "cell_type": "code",
   "execution_count": 60,
   "metadata": {
    "collapsed": false,
    "deletable": true,
    "editable": true
   },
   "outputs": [
    {
     "name": "stdout",
     "output_type": "stream",
     "text": [
      "Accuracy = 0.800%\n"
     ]
    }
   ],
   "source": [
    "### Calculate the accuracy for these 5 new images. \n",
    "### For example, if the model predicted 1 out of 5 signs correctly, it's 20% accurate on these new images.\n",
    "\n",
    "print(\"Accuracy = {:.3f}%\".format(predictions.count(1)/len(predictions)))"
   ]
  },
  {
   "cell_type": "markdown",
   "metadata": {
    "deletable": true,
    "editable": true
   },
   "source": [
    "### Output Top 5 Softmax Probabilities For Each Image Found on the Web"
   ]
  },
  {
   "cell_type": "markdown",
   "metadata": {
    "deletable": true,
    "editable": true
   },
   "source": [
    "For each of the new images, print out the model's softmax probabilities to show the **certainty** of the model's predictions (limit the output to the top 5 probabilities for each image). [`tf.nn.top_k`](https://www.tensorflow.org/versions/r0.12/api_docs/python/nn.html#top_k) could prove helpful here. \n",
    "\n",
    "The example below demonstrates how tf.nn.top_k can be used to find the top k predictions for each image.\n",
    "\n",
    "`tf.nn.top_k` will return the values and indices (class ids) of the top k predictions. So if k=3, for each sign, it'll return the 3 largest probabilities (out of a possible 43) and the correspoding class ids.\n",
    "\n",
    "Take this numpy array as an example. The values in the array represent predictions. The array contains softmax probabilities for five candidate images with six possible classes. `tk.nn.top_k` is used to choose the three classes with the highest probability:\n",
    "\n",
    "```\n",
    "# (5, 6) array\n",
    "a = np.array([[ 0.24879643,  0.07032244,  0.12641572,  0.34763842,  0.07893497,\n",
    "         0.12789202],\n",
    "       [ 0.28086119,  0.27569815,  0.08594638,  0.0178669 ,  0.18063401,\n",
    "         0.15899337],\n",
    "       [ 0.26076848,  0.23664738,  0.08020603,  0.07001922,  0.1134371 ,\n",
    "         0.23892179],\n",
    "       [ 0.11943333,  0.29198961,  0.02605103,  0.26234032,  0.1351348 ,\n",
    "         0.16505091],\n",
    "       [ 0.09561176,  0.34396535,  0.0643941 ,  0.16240774,  0.24206137,\n",
    "         0.09155967]])\n",
    "```\n",
    "\n",
    "Running it through `sess.run(tf.nn.top_k(tf.constant(a), k=3))` produces:\n",
    "\n",
    "```\n",
    "TopKV2(values=array([[ 0.34763842,  0.24879643,  0.12789202],\n",
    "       [ 0.28086119,  0.27569815,  0.18063401],\n",
    "       [ 0.26076848,  0.23892179,  0.23664738],\n",
    "       [ 0.29198961,  0.26234032,  0.16505091],\n",
    "       [ 0.34396535,  0.24206137,  0.16240774]]), indices=array([[3, 0, 5],\n",
    "       [0, 1, 4],\n",
    "       [0, 5, 1],\n",
    "       [1, 3, 5],\n",
    "       [1, 4, 3]], dtype=int32))\n",
    "```\n",
    "\n",
    "Looking just at the first row we get `[ 0.34763842,  0.24879643,  0.12789202]`, you can confirm these are the 3 largest probabilities in `a`. You'll also notice `[3, 0, 5]` are the corresponding indices."
   ]
  },
  {
   "cell_type": "code",
   "execution_count": 61,
   "metadata": {
    "collapsed": false,
    "deletable": true,
    "editable": true
   },
   "outputs": [
    {
     "ename": "ValueError",
     "evalue": "Argument must be a dense tensor: [array([-11.06972504,   0.73407799,   5.28793144,  -8.84322643,\n       -18.83254433,  -1.28046227, -20.83376884, -11.52545834,\n       -22.20370483, -21.49258041, -20.46974564,  42.92238235,\n        -2.5215838 , -20.85738564, -20.55676651, -30.72515297,\n       -22.44055939, -22.53277016,  18.3513279 ,  14.57130909,\n        14.71249485,  21.10777855, -11.98837662,  30.3216877 ,\n        27.94455338,  22.51329994,  10.03607178,  24.48009872,\n        23.37482834,  23.98756981,  38.00538254,  20.23345947,\n       -37.80879593, -22.89640808,  -7.65710354, -13.64525318,\n       -38.84527206,   3.45413184, -16.1079216 ,  -5.80131817,\n         0.8055234 , -21.11661148, -25.24370956], dtype=float32), array([-16.17902946,   1.60483694,   1.52750945,  19.9050827 ,\n        -4.99546528,  14.43899632,   7.10583591,  11.9562912 ,\n         2.05222106,  -4.23819447,  -7.21832991,   0.92028713,\n        24.38741112,   0.13006963, -12.27118301, -13.974967  ,\n         4.15144205, -13.06980896,  -3.86755848, -25.75269508,\n       -11.42440891,   4.98276901, -23.00800896, -13.72429562,\n       -18.60258865,   0.7819798 , -10.75672436, -18.01113129,\n        -5.46499634, -11.95880985, -13.96011066, -12.80371475,\n         1.24615419, -11.8774786 , -20.89543724, -14.30090046,\n       -19.61429787,  -7.38856888,  -0.64442271, -16.09011269,\n         7.65178823,   4.23165083,   6.40527725], dtype=float32), array([ -59.41788864,   36.18913269,  -16.71669769,    7.3772378 ,\n        -45.183815  ,    3.99679089,   -1.81153691,    9.11945629,\n        -44.5185051 ,    4.07255745,  -13.83789635,    3.93451548,\n         43.43571091,  151.69314575,  -39.43356705,  -13.16465664,\n        -46.33245468,  -34.97841263,  -74.83932495, -113.21124268,\n        -83.01264954,  -55.33880997,  -28.15159798,  -52.82801056,\n        -71.71009827,   24.04765511,  -32.30150604,  -80.90099335,\n         -6.82044983,    0.86118281,  -27.36089706,  -55.64531326,\n         -0.83336121,  -53.51821136,  -36.37282562,    6.01871443,\n        -47.2881012 ,  -18.16527748,    9.10818005,  -24.08817863,\n         19.78956985,   16.07913589,  -18.17747498], dtype=float32), array([ -8.91938686,  -0.0956296 ,  -2.67948484,   2.44672418,\n       -12.75708866,  -1.05910206, -12.28653526,  -9.31139278,\n       -17.50119781, -20.9100914 , -17.4904232 ,  25.97891235,\n        -0.35022756, -15.92921543,  -8.55297947, -13.15444565,\n       -13.40067387, -13.95272446,  18.73187828,  15.75942135,\n        -2.61462092,  13.99978638,   4.85615778,  12.6304512 ,\n        19.28385353,  12.43350124,  11.35579395,   9.7174139 ,\n        14.75613689,  20.61613655,  21.73705673,  15.90981102,\n       -27.59994125, -17.51554489,  -7.05838108,  -8.14946556,\n       -25.8489666 ,   3.00787401, -13.49807453,  -2.23785639,\n        -4.3491416 , -16.68126106, -20.3024044 ], dtype=float32), array([ -6.36195374,  -4.13786268,  -4.24667215,  -9.99045372,\n        -4.11301041,  -4.23574352, -14.51618385, -38.36756134,\n       -23.11398697, -26.34579849, -24.76055527,  29.33168221,\n       -10.736619  , -14.6544323 ,  -8.05226898, -10.33242512,\n       -25.8690815 , -23.62658882,  49.83851242,  19.19813538,\n         7.97409582,  17.88481712,  13.23442268,  17.1935997 ,\n        32.62446213,  16.7895031 ,  41.81265259,  34.53585434,\n        27.28998947,  23.69082832,  24.37237167,  13.86411953,\n       -40.1910553 , -21.26051903,  -6.68506145, -18.46053505,\n       -22.97259331,  13.10318089,  -4.63623142,  -0.08669515,\n       -12.97566605, -25.11307144, -44.44064713], dtype=float32)] - got shape [5, 43], but wanted [5].",
     "output_type": "error",
     "traceback": [
      "\u001b[0;31m---------------------------------------------------------------------------\u001b[0m",
      "\u001b[0;31mValueError\u001b[0m                                Traceback (most recent call last)",
      "\u001b[0;32m<ipython-input-61-ed074e221b57>\u001b[0m in \u001b[0;36m<module>\u001b[0;34m()\u001b[0m\n\u001b[1;32m      3\u001b[0m \u001b[0;34m\u001b[0m\u001b[0m\n\u001b[1;32m      4\u001b[0m \u001b[0;32mwith\u001b[0m \u001b[0mtf\u001b[0m\u001b[0;34m.\u001b[0m\u001b[0mSession\u001b[0m\u001b[0;34m(\u001b[0m\u001b[0;34m)\u001b[0m \u001b[0;32mas\u001b[0m \u001b[0msession\u001b[0m\u001b[0;34m:\u001b[0m\u001b[0;34m\u001b[0m\u001b[0m\n\u001b[0;32m----> 5\u001b[0;31m     \u001b[0mtop_5_probabilities\u001b[0m \u001b[0;34m=\u001b[0m \u001b[0msession\u001b[0m\u001b[0;34m.\u001b[0m\u001b[0mrun\u001b[0m\u001b[0;34m(\u001b[0m\u001b[0mtf\u001b[0m\u001b[0;34m.\u001b[0m\u001b[0mnn\u001b[0m\u001b[0;34m.\u001b[0m\u001b[0mtop_k\u001b[0m\u001b[0;34m(\u001b[0m\u001b[0mtf\u001b[0m\u001b[0;34m.\u001b[0m\u001b[0mconstant\u001b[0m\u001b[0;34m(\u001b[0m\u001b[0mprobabilities\u001b[0m\u001b[0;34m)\u001b[0m\u001b[0;34m,\u001b[0m \u001b[0mk\u001b[0m \u001b[0;34m=\u001b[0m \u001b[0;36m5\u001b[0m\u001b[0;34m)\u001b[0m\u001b[0;34m)\u001b[0m\u001b[0;34m\u001b[0m\u001b[0m\n\u001b[0m\u001b[1;32m      6\u001b[0m     \u001b[0mprint\u001b[0m\u001b[0;34m(\u001b[0m\u001b[0;34m\"Top five probabilities = {}\"\u001b[0m\u001b[0;34m.\u001b[0m\u001b[0mformat\u001b[0m\u001b[0;34m(\u001b[0m\u001b[0mtop_5_probabilities\u001b[0m\u001b[0;34m)\u001b[0m\u001b[0;34m)\u001b[0m\u001b[0;34m\u001b[0m\u001b[0m\n",
      "\u001b[0;32m/home/carnd/anaconda3/envs/carnd-term1/lib/python3.5/site-packages/tensorflow/python/framework/constant_op.py\u001b[0m in \u001b[0;36mconstant\u001b[0;34m(value, dtype, shape, name, verify_shape)\u001b[0m\n\u001b[1;32m    163\u001b[0m   \u001b[0mtensor_value\u001b[0m \u001b[0;34m=\u001b[0m \u001b[0mattr_value_pb2\u001b[0m\u001b[0;34m.\u001b[0m\u001b[0mAttrValue\u001b[0m\u001b[0;34m(\u001b[0m\u001b[0;34m)\u001b[0m\u001b[0;34m\u001b[0m\u001b[0m\n\u001b[1;32m    164\u001b[0m   tensor_value.tensor.CopyFrom(\n\u001b[0;32m--> 165\u001b[0;31m       tensor_util.make_tensor_proto(value, dtype=dtype, shape=shape, verify_shape=verify_shape))\n\u001b[0m\u001b[1;32m    166\u001b[0m   \u001b[0mdtype_value\u001b[0m \u001b[0;34m=\u001b[0m \u001b[0mattr_value_pb2\u001b[0m\u001b[0;34m.\u001b[0m\u001b[0mAttrValue\u001b[0m\u001b[0;34m(\u001b[0m\u001b[0mtype\u001b[0m\u001b[0;34m=\u001b[0m\u001b[0mtensor_value\u001b[0m\u001b[0;34m.\u001b[0m\u001b[0mtensor\u001b[0m\u001b[0;34m.\u001b[0m\u001b[0mdtype\u001b[0m\u001b[0;34m)\u001b[0m\u001b[0;34m\u001b[0m\u001b[0m\n\u001b[1;32m    167\u001b[0m   const_tensor = g.create_op(\n",
      "\u001b[0;32m/home/carnd/anaconda3/envs/carnd-term1/lib/python3.5/site-packages/tensorflow/python/framework/tensor_util.py\u001b[0m in \u001b[0;36mmake_tensor_proto\u001b[0;34m(values, dtype, shape, verify_shape)\u001b[0m\n\u001b[1;32m    374\u001b[0m                          \"\"\" - got shape %s, but wanted %s.\"\"\" % (\n\u001b[1;32m    375\u001b[0m                              \u001b[0mvalues\u001b[0m\u001b[0;34m,\u001b[0m \u001b[0mlist\u001b[0m\u001b[0;34m(\u001b[0m\u001b[0mnparray\u001b[0m\u001b[0;34m.\u001b[0m\u001b[0mshape\u001b[0m\u001b[0;34m)\u001b[0m\u001b[0;34m,\u001b[0m\u001b[0;34m\u001b[0m\u001b[0m\n\u001b[0;32m--> 376\u001b[0;31m                              _GetDenseDimensions(values)))\n\u001b[0m\u001b[1;32m    377\u001b[0m \u001b[0;34m\u001b[0m\u001b[0m\n\u001b[1;32m    378\u001b[0m     \u001b[0;31m# python/numpy default float type is float64. We prefer float32 instead.\u001b[0m\u001b[0;34m\u001b[0m\u001b[0;34m\u001b[0m\u001b[0m\n",
      "\u001b[0;31mValueError\u001b[0m: Argument must be a dense tensor: [array([-11.06972504,   0.73407799,   5.28793144,  -8.84322643,\n       -18.83254433,  -1.28046227, -20.83376884, -11.52545834,\n       -22.20370483, -21.49258041, -20.46974564,  42.92238235,\n        -2.5215838 , -20.85738564, -20.55676651, -30.72515297,\n       -22.44055939, -22.53277016,  18.3513279 ,  14.57130909,\n        14.71249485,  21.10777855, -11.98837662,  30.3216877 ,\n        27.94455338,  22.51329994,  10.03607178,  24.48009872,\n        23.37482834,  23.98756981,  38.00538254,  20.23345947,\n       -37.80879593, -22.89640808,  -7.65710354, -13.64525318,\n       -38.84527206,   3.45413184, -16.1079216 ,  -5.80131817,\n         0.8055234 , -21.11661148, -25.24370956], dtype=float32), array([-16.17902946,   1.60483694,   1.52750945,  19.9050827 ,\n        -4.99546528,  14.43899632,   7.10583591,  11.9562912 ,\n         2.05222106,  -4.23819447,  -7.21832991,   0.92028713,\n        24.38741112,   0.13006963, -12.27118301, -13.974967  ,\n         4.15144205, -13.06980896,  -3.86755848, -25.75269508,\n       -11.42440891,   4.98276901, -23.00800896, -13.72429562,\n       -18.60258865,   0.7819798 , -10.75672436, -18.01113129,\n        -5.46499634, -11.95880985, -13.96011066, -12.80371475,\n         1.24615419, -11.8774786 , -20.89543724, -14.30090046,\n       -19.61429787,  -7.38856888,  -0.64442271, -16.09011269,\n         7.65178823,   4.23165083,   6.40527725], dtype=float32), array([ -59.41788864,   36.18913269,  -16.71669769,    7.3772378 ,\n        -45.183815  ,    3.99679089,   -1.81153691,    9.11945629,\n        -44.5185051 ,    4.07255745,  -13.83789635,    3.93451548,\n         43.43571091,  151.69314575,  -39.43356705,  -13.16465664,\n        -46.33245468,  -34.97841263,  -74.83932495, -113.21124268,\n        -83.01264954,  -55.33880997,  -28.15159798,  -52.82801056,\n        -71.71009827,   24.04765511,  -32.30150604,  -80.90099335,\n         -6.82044983,    0.86118281,  -27.36089706,  -55.64531326,\n         -0.83336121,  -53.51821136,  -36.37282562,    6.01871443,\n        -47.2881012 ,  -18.16527748,    9.10818005,  -24.08817863,\n         19.78956985,   16.07913589,  -18.17747498], dtype=float32), array([ -8.91938686,  -0.0956296 ,  -2.67948484,   2.44672418,\n       -12.75708866,  -1.05910206, -12.28653526,  -9.31139278,\n       -17.50119781, -20.9100914 , -17.4904232 ,  25.97891235,\n        -0.35022756, -15.92921543,  -8.55297947, -13.15444565,\n       -13.40067387, -13.95272446,  18.73187828,  15.75942135,\n        -2.61462092,  13.99978638,   4.85615778,  12.6304512 ,\n        19.28385353,  12.43350124,  11.35579395,   9.7174139 ,\n        14.75613689,  20.61613655,  21.73705673,  15.90981102,\n       -27.59994125, -17.51554489,  -7.05838108,  -8.14946556,\n       -25.8489666 ,   3.00787401, -13.49807453,  -2.23785639,\n        -4.3491416 , -16.68126106, -20.3024044 ], dtype=float32), array([ -6.36195374,  -4.13786268,  -4.24667215,  -9.99045372,\n        -4.11301041,  -4.23574352, -14.51618385, -38.36756134,\n       -23.11398697, -26.34579849, -24.76055527,  29.33168221,\n       -10.736619  , -14.6544323 ,  -8.05226898, -10.33242512,\n       -25.8690815 , -23.62658882,  49.83851242,  19.19813538,\n         7.97409582,  17.88481712,  13.23442268,  17.1935997 ,\n        32.62446213,  16.7895031 ,  41.81265259,  34.53585434,\n        27.28998947,  23.69082832,  24.37237167,  13.86411953,\n       -40.1910553 , -21.26051903,  -6.68506145, -18.46053505,\n       -22.97259331,  13.10318089,  -4.63623142,  -0.08669515,\n       -12.97566605, -25.11307144, -44.44064713], dtype=float32)] - got shape [5, 43], but wanted [5]."
     ]
    }
   ],
   "source": [
    "### Print out the top five softmax probabilities for the predictions on the German traffic sign images found on the web. \n",
    "### Feel free to use as many code cells as needed.\n",
    "\n",
    "with tf.Session() as session:\n",
    "    top_5_probabilities = session.run(tf.nn.top_k(tf.constant(probabilities), k = 5))\n",
    "    print(\"Top five probabilities = {}\".format(top_5_probabilities))"
   ]
  },
  {
   "cell_type": "markdown",
   "metadata": {
    "deletable": true,
    "editable": true
   },
   "source": [
    "---\n",
    "\n",
    "## Step 4: Visualize the Neural Network's State with Test Images\n",
    "\n",
    " This Section is not required to complete but acts as an additional excersise for understaning the output of a neural network's weights. While neural networks can be a great learning device they are often referred to as a black box. We can understand what the weights of a neural network look like better by plotting their feature maps. After successfully training your neural network you can see what it's feature maps look like by plotting the output of the network's weight layers in response to a test stimuli image. From these plotted feature maps, it's possible to see what characteristics of an image the network finds interesting. For a sign, maybe the inner network feature maps react with high activation to the sign's boundary outline or to the contrast in the sign's painted symbol.\n",
    "\n",
    " Provided for you below is the function code that allows you to get the visualization output of any tensorflow weight layer you want. The inputs to the function should be a stimuli image, one used during training or a new one you provided, and then the tensorflow variable name that represents the layer's state during the training process, for instance if you wanted to see what the [LeNet lab's](https://classroom.udacity.com/nanodegrees/nd013/parts/fbf77062-5703-404e-b60c-95b78b2f3f9e/modules/6df7ae49-c61c-4bb2-a23e-6527e69209ec/lessons/601ae704-1035-4287-8b11-e2c2716217ad/concepts/d4aca031-508f-4e0b-b493-e7b706120f81) feature maps looked like for it's second convolutional layer you could enter conv2 as the tf_activation variable.\n",
    "\n",
    "For an example of what feature map outputs look like, check out NVIDIA's results in their paper [End-to-End Deep Learning for Self-Driving Cars](https://devblogs.nvidia.com/parallelforall/deep-learning-self-driving-cars/) in the section Visualization of internal CNN State. NVIDIA was able to show that their network's inner weights had high activations to road boundary lines by comparing feature maps from an image with a clear path to one without. Try experimenting with a similar test to show that your trained network's weights are looking for interesting features, whether it's looking at differences in feature maps from images with or without a sign, or even what feature maps look like in a trained network vs a completely untrained one on the same sign image.\n",
    "\n",
    "<figure>\n",
    " <img src=\"visualize_cnn.png\" width=\"380\" alt=\"Combined Image\" />\n",
    " <figcaption>\n",
    " <p></p> \n",
    " <p style=\"text-align: center;\"> Your output should look something like this (above)</p> \n",
    " </figcaption>\n",
    "</figure>\n",
    " <p></p> \n"
   ]
  },
  {
   "cell_type": "code",
   "execution_count": 18,
   "metadata": {
    "collapsed": true,
    "deletable": true,
    "editable": true
   },
   "outputs": [],
   "source": [
    "### Visualize your network's feature maps here.\n",
    "### Feel free to use as many code cells as needed.\n",
    "\n",
    "# image_input: the test image being fed into the network to produce the feature maps\n",
    "# tf_activation: should be a tf variable name used during your training procedure that represents the calculated state of a specific weight layer\n",
    "# activation_min/max: can be used to view the activation contrast in more detail, by default matplot sets min and max to the actual min and max values of the output\n",
    "# plt_num: used to plot out multiple different weight feature map sets on the same block, just extend the plt number for each new feature map entry\n",
    "\n",
    "def outputFeatureMap(image_input, tf_activation, activation_min=-1, activation_max=-1 ,plt_num=1):\n",
    "    # Here make sure to preprocess your image_input in a way your network expects\n",
    "    # with size, normalization, ect if needed\n",
    "    # image_input =\n",
    "    # Note: x should be the same name as your network's tensorflow data placeholder variable\n",
    "    # If you get an error tf_activation is not defined it maybe having trouble accessing the variable from inside a function\n",
    "    activation = tf_activation.eval(session=sess,feed_dict={x : image_input})\n",
    "    featuremaps = activation.shape[3]\n",
    "    plt.figure(plt_num, figsize=(15,15))\n",
    "    for featuremap in range(featuremaps):\n",
    "        plt.subplot(6,8, featuremap+1) # sets the number of feature maps to show on each row and column\n",
    "        plt.title('FeatureMap ' + str(featuremap)) # displays the feature map number\n",
    "        if activation_min != -1 & activation_max != -1:\n",
    "            plt.imshow(activation[0,:,:, featuremap], interpolation=\"nearest\", vmin =activation_min, vmax=activation_max, cmap=\"gray\")\n",
    "        elif activation_max != -1:\n",
    "            plt.imshow(activation[0,:,:, featuremap], interpolation=\"nearest\", vmax=activation_max, cmap=\"gray\")\n",
    "        elif activation_min !=-1:\n",
    "            plt.imshow(activation[0,:,:, featuremap], interpolation=\"nearest\", vmin=activation_min, cmap=\"gray\")\n",
    "        else:\n",
    "            plt.imshow(activation[0,:,:, featuremap], interpolation=\"nearest\", cmap=\"gray\")"
   ]
  },
  {
   "cell_type": "markdown",
   "metadata": {
    "deletable": true,
    "editable": true
   },
   "source": [
    "### Question 9\n",
    "\n",
    "Discuss how you used the visual output of your trained network's feature maps to show that it had learned to look for interesting characteristics in traffic sign images\n"
   ]
  },
  {
   "cell_type": "markdown",
   "metadata": {
    "deletable": true,
    "editable": true
   },
   "source": [
    "**Answer:**"
   ]
  },
  {
   "cell_type": "markdown",
   "metadata": {
    "deletable": true,
    "editable": true
   },
   "source": [
    "> **Note**: Once you have completed all of the code implementations and successfully answered each question above, you may finalize your work by exporting the iPython Notebook as an HTML document. You can do this by using the menu above and navigating to  \\n\",\n",
    "    \"**File -> Download as -> HTML (.html)**. Include the finished document along with this notebook as your submission."
   ]
  },
  {
   "cell_type": "markdown",
   "metadata": {
    "deletable": true,
    "editable": true
   },
   "source": [
    "### Project Writeup\n",
    "\n",
    "Once you have completed the code implementation, document your results in a project writeup using this [template](https://github.com/udacity/CarND-Traffic-Sign-Classifier-Project/blob/master/writeup_template.md) as a guide. The writeup can be in a markdown or pdf file. "
   ]
  }
 ],
 "metadata": {
  "anaconda-cloud": {},
  "kernelspec": {
   "display_name": "Python 3",
   "language": "python",
   "name": "python3"
  },
  "language_info": {
   "codemirror_mode": {
    "name": "ipython",
    "version": 3
   },
   "file_extension": ".py",
   "mimetype": "text/x-python",
   "name": "python",
   "nbconvert_exporter": "python",
   "pygments_lexer": "ipython3",
   "version": "3.5.2"
  },
  "widgets": {
   "state": {},
   "version": "1.1.2"
  }
 },
 "nbformat": 4,
 "nbformat_minor": 1
}
